{
  "nbformat": 4,
  "nbformat_minor": 0,
  "metadata": {
    "colab": {
      "name": "facial expression",
      "provenance": [],
      "collapsed_sections": []
    },
    "kernelspec": {
      "name": "python3",
      "display_name": "Python 3"
    },
    "language_info": {
      "name": "python"
    },
    "accelerator": "GPU"
  },
  "cells": [
    {
      "cell_type": "markdown",
      "source": [
        "upload kaggle.json"
      ],
      "metadata": {
        "id": "AxknrE93n9Kt"
      }
    },
    {
      "cell_type": "code",
      "source": [
        "from google.colab import files\n",
        "files.upload()"
      ],
      "metadata": {
        "colab": {
          "resources": {
            "http://localhost:8080/nbextensions/google.colab/files.js": {
              "data": "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",
              "ok": true,
              "headers": [
                [
                  "content-type",
                  "application/javascript"
                ]
              ],
              "status": 200,
              "status_text": ""
            }
          },
          "base_uri": "https://localhost:8080/",
          "height": 91
        },
        "id": "wqiWNZHLPzqF",
        "outputId": "a9763aa6-822c-4ad3-9216-6a6b44ecbef2"
      },
      "execution_count": null,
      "outputs": [
        {
          "output_type": "display_data",
          "data": {
            "text/html": [
              "\n",
              "     <input type=\"file\" id=\"files-fff1a0c8-90ef-4655-b3b5-c9b9709df195\" name=\"files[]\" multiple disabled\n",
              "        style=\"border:none\" />\n",
              "     <output id=\"result-fff1a0c8-90ef-4655-b3b5-c9b9709df195\">\n",
              "      Upload widget is only available when the cell has been executed in the\n",
              "      current browser session. Please rerun this cell to enable.\n",
              "      </output>\n",
              "      <script src=\"/nbextensions/google.colab/files.js\"></script> "
            ],
            "text/plain": [
              "<IPython.core.display.HTML object>"
            ]
          },
          "metadata": {}
        },
        {
          "output_type": "stream",
          "name": "stdout",
          "text": [
            "Saving kaggle.json to kaggle.json\n"
          ]
        },
        {
          "output_type": "execute_result",
          "data": {
            "text/plain": [
              "{'kaggle.json': b'{\"username\":\"harpershen\",\"key\":\"820ca384b9a6d9fc4dfc8c0d4a654cde\"}'}"
            ]
          },
          "metadata": {},
          "execution_count": 7
        }
      ]
    },
    {
      "cell_type": "code",
      "source": [
        "!pip install -q kaggle\n",
        "!mkdir -p ~/.kaggle\n",
        "!cp kaggle.json ~/.kaggle/\n",
        "!ls ~/.kaggle\n",
        "!chmod 600 /root/.kaggle/kaggle.json \n",
        "!kaggle datasets download -d jonathanoheix/face-expression-recognition-dataset\n",
        "!unzip -q /content/face-expression-recognition-dataset.zip\n",
        "!mv /content/images/ ~"
      ],
      "metadata": {
        "colab": {
          "base_uri": "https://localhost:8080/"
        },
        "id": "cCmJiwDnP-LP",
        "outputId": "cff88ea2-778d-44ec-c3e2-8ea6a08ac788"
      },
      "execution_count": null,
      "outputs": [
        {
          "output_type": "stream",
          "name": "stdout",
          "text": [
            "kaggle.json\n",
            "Downloading face-expression-recognition-dataset.zip to /content\n",
            " 97% 117M/121M [00:00<00:00, 112MB/s]  \n",
            "100% 121M/121M [00:00<00:00, 143MB/s]\n"
          ]
        }
      ]
    },
    {
      "cell_type": "code",
      "source": [
        "# from google.colab import drive\n",
        "# drive.mount('/content/drive')\n",
        "# from google.colab import drive\n",
        "# drive.flush_and_unmount()"
      ],
      "metadata": {
        "id": "yCxr8Cay_Vk-"
      },
      "execution_count": null,
      "outputs": []
    },
    {
      "cell_type": "markdown",
      "source": [
        "Get data"
      ],
      "metadata": {
        "id": "e-Z5PaEEoD8U"
      }
    },
    {
      "cell_type": "code",
      "execution_count": null,
      "metadata": {
        "id": "7WAZKfpbI5yT"
      },
      "outputs": [],
      "source": [
        "import torch\n",
        "import torchvision\n",
        "from torch.utils.data import Dataset\n",
        "from torchvision.io import read_image\n",
        "import torchvision.transforms as transforms\n",
        "import os\n",
        "\n",
        "\n",
        "class facialDataset(Dataset):\n",
        "  def __init__(self, directory):\n",
        "    self.arr = []\n",
        "    self.directory = directory\n",
        "    self.label_dict = {\"angry\": 0, \"disgust\": 1, \"fear\": 2, \"happy\": 3, \"neutral\": 4, \"sad\": 5, \"surprise\": 6}\n",
        "    #self.label_dict = {\"angry\": 0, \"disgust\": 1, \"fear\": 1, \"happy\": 2, \"neutral\": 3, \"sad\": 4, \"surprise\": 1}\n",
        "    for dir in os.listdir(directory):\n",
        "      for filename in os.listdir(os.path.join(directory, dir)):\n",
        "        index = filename[:-len(\".jpg\")]\n",
        "        self.arr.append((dir, index))\n",
        "        #self.dic.add(int(index), dir)\n",
        "  \n",
        "  def __len__(self):\n",
        "    return len(self.arr)\n",
        "\n",
        "  def __getitem__(self, idx):\n",
        "    img_path = os.path.join(self.directory, self.arr[idx][0], self.arr[idx][1] + \".jpg\")\n",
        "    image = read_image(img_path)\n",
        "    image = image.type(torch.float)\n",
        "    label = self.label_dict.get(self.arr[idx][0])\n",
        "    return image, torch.tensor(label)\n",
        "\n",
        "class facialDatasetAug(Dataset):\n",
        "  def __init__(self, directory, transform): # use transform for transfer learning\n",
        "  # def __init__(self, directory):\n",
        "    self.arr = []\n",
        "    self.directory = directory\n",
        "    self.label_dict = {\"angry\": 0, \"disgust\": 1, \"fear\": 2, \"happy\": 3, \"neutral\": 4, \"sad\": 5, \"surprise\": 6}\n",
        "    # use for transfer learning\n",
        "    self.transform = transform\n",
        "    \n",
        "    for dir in os.listdir(directory):\n",
        "      for filename in os.listdir(os.path.join(directory, dir)):\n",
        "        index = filename[:-len(\".jpg\")]\n",
        "        self.arr.append((dir, index))\n",
        "        #self.dic.add(int(index), dir)\n",
        "  \n",
        "  def __len__(self):\n",
        "    return len(self.arr)\n",
        "\n",
        "  # def __getitem__(self, idx):\n",
        "  #   img_path = os.path.join(self.directory, self.arr[idx][0], self.arr[idx][1] + \".jpg\")\n",
        "  #   image = read_image(img_path)\n",
        "  #   cropper = torchvision.transforms.RandomCrop(46, padding=1, padding_mode='edge');\n",
        "  #   image = cropper(image)\n",
        "  #   flipper = torchvision.transforms.RandomHorizontalFlip(p=0.5)\n",
        "  #   image = flipper(image)\n",
        "  #   image = image.type(torch.float)\n",
        "  #   label = self.label_dict.get(self.arr[idx][0])\n",
        "  #   return image, torch.tensor(label)\n",
        "\n",
        "  # use for transfer learning\n",
        "  def __getitem__(self, idx):\n",
        "    img_path = os.path.join(self.directory, self.arr[idx][0], self.arr[idx][1] + \".jpg\")\n",
        "    image = read_image(img_path)\n",
        "    image = self.transform(image)\n",
        "    image = image.type(torch.float)\n",
        "    label = self.label_dict.get(self.arr[idx][0])\n",
        "    return image, torch.tensor(label)\n",
        "\n",
        "  \n",
        "\n",
        "\n"
      ]
    },
    {
      "cell_type": "code",
      "source": [
        "from torch.utils.data import DataLoader\n",
        "\n",
        "\n",
        "\n",
        "trainDataset = facialDataset(\"/root/images/train\")\n",
        "testDataset = facialDataset(\"/root/images/validation\")\n",
        "\n",
        "# train_dataloader = DataLoader(trainDataset, batch_size=64, shuffle=True)\n",
        "# test_dataloader = DataLoader(testDataset, batch_size=64, shuffle=False)\n",
        "\n",
        "train_dataloader = DataLoader(trainDataset, batch_size=128, shuffle=True)\n",
        "test_dataloader = DataLoader(testDataset, batch_size=128, shuffle=False)\n",
        "\n",
        "# train_dataloader = DataLoader(trainDataset, batch_size=256, shuffle=True)\n",
        "# test_dataloader = DataLoader(testDataset, batch_size=256, shuffle=False)"
      ],
      "metadata": {
        "id": "8QI0zdDFTXxL"
      },
      "execution_count": null,
      "outputs": []
    },
    {
      "cell_type": "code",
      "source": [
        "print(trainDataset[0][0])\n",
        "print(trainDataset[0][1])"
      ],
      "metadata": {
        "colab": {
          "base_uri": "https://localhost:8080/"
        },
        "id": "jYFeGKifpFnW",
        "outputId": "1e238d34-df69-4a53-f2b6-ad02af7c3240"
      },
      "execution_count": null,
      "outputs": [
        {
          "output_type": "stream",
          "name": "stdout",
          "text": [
            "tensor([[[ 91., 150., 141.,  ..., 172., 169., 160.],\n",
            "         [ 87., 147., 143.,  ..., 173., 166., 157.],\n",
            "         [109., 144., 138.,  ..., 173., 161., 155.],\n",
            "         ...,\n",
            "         [  0.,   1.,   1.,  ..., 142., 139., 130.],\n",
            "         [  0.,   1.,   0.,  ..., 137., 132., 126.],\n",
            "         [  2.,   0.,   0.,  ..., 132., 123., 121.]]])\n",
            "tensor(1)\n"
          ]
        }
      ]
    },
    {
      "cell_type": "markdown",
      "source": [
        "Check if device is GPU"
      ],
      "metadata": {
        "id": "Hu6ewtyJv7nf"
      }
    },
    {
      "cell_type": "code",
      "source": [
        "device = torch.device(\"cuda:0\" if torch.cuda.is_available() else \"cpu\")\n",
        "# device = 'cpu'"
      ],
      "metadata": {
        "id": "_zQ9J7wOv6y-"
      },
      "execution_count": null,
      "outputs": []
    },
    {
      "cell_type": "markdown",
      "source": [
        "Add neural network with three layers. Add simple netword from tutorial 2. Add conv netword from tutorial 2"
      ],
      "metadata": {
        "id": "qijdCUTtn2xj"
      }
    },
    {
      "cell_type": "code",
      "source": [
        "import torch.nn as nn\n",
        "import torch.nn.functional as F\n",
        "\n",
        "\n",
        "class NeuralNetwork(nn.Module):\n",
        "    def __init__(self, inputs=2304, hidden1=1024, hidden2 = 512, outputs=7):\n",
        "        super(NeuralNetwork, self).__init__()\n",
        "        self.fc1 = nn.Linear(inputs, hidden1)\n",
        "        self.fc2 = nn.Linear(hidden1, hidden2)\n",
        "        #self.fc3 = nn.Linear(hidden2, hidden3)\n",
        "        self.fc3 = nn.Linear(hidden2, outputs)\n",
        "\n",
        "    def forward(self, x):\n",
        "        x = torch.flatten(x, 1)\n",
        "        x = self.fc1(x)\n",
        "        x = torch.tanh(x) \n",
        "        x = self.fc2(x)\n",
        "        x = torch.tanh(x)\n",
        "        x = self.fc3(x)\n",
        "        # No softmax, happens in loss function\n",
        "        return \n",
        "\n",
        "\n",
        "class SimpleNet(nn.Module):\n",
        "    def __init__(self, inputs=2304, hidden=512, outputs=10):\n",
        "        super(SimpleNet, self).__init__()\n",
        "        self.fc1 = nn.Linear(inputs, hidden)\n",
        "        self.fc2 = nn.Linear(hidden, outputs)\n",
        "\n",
        "    def forward(self, x):\n",
        "        x = torch.flatten(x, 1) # Takes image-like to vector-like\n",
        "        x = self.fc1(x)\n",
        "        x = F.relu(x)\n",
        "        x = self.fc2(x)\n",
        "        return x\n",
        "\n",
        "\n",
        "class ConvNet(nn.Module):\n",
        "    def __init__(self):\n",
        "        super(ConvNet, self).__init__() # https://pytorch.org/docs/stable/generated/torch.nn.Conv2d.html\n",
        "        # Input 48*48*1 image\n",
        "        # 16 filters\n",
        "        # 3x3 filter size (they also have 3 channels)\n",
        "        # stride 2 (downsampling by factor of 2)\n",
        "        # Output image: 16x16x16\n",
        "        self.conv1 = nn.Conv2d(1, 16, 3, stride=2, padding=1)\n",
        "\n",
        "        # Input 24*24*16 image\n",
        "        # 32 filters\n",
        "        # 3x3x16 filter size (they also have 16 channels)\n",
        "        # stride 2 (downsampling by factor of 2)\n",
        "        # Output image: 8x8x32\n",
        "        self.conv2 = nn.Conv2d(16, 32, 3, stride=2, padding=1)\n",
        "\n",
        "\n",
        "        # Exercise left to the reader\n",
        "        # Output image: 12*12*32 -> 1024 neurons\n",
        "        self.conv3 = nn.Conv2d(32, 64, 3, stride=2, padding=1)\n",
        "        # Output image: 6*6*34 -> 2304 neurons\n",
        "        #self.fc1 = nn.Linear(2304, 10)\n",
        "        self.fc1 = nn.Linear(2304, 5)\n",
        "\n",
        "    def forward(self, x):\n",
        "        x = self.conv1(x)\n",
        "        x = F.relu(x)\n",
        "        x = self.conv2(x)\n",
        "        x = F.relu(x)\n",
        "        x = self.conv3(x)\n",
        "        x = F.relu(x)\n",
        "        x = torch.flatten(x, 1)\n",
        "        x = self.fc1(x) # Unnormalized Probabilities\n",
        "        return x\n"
      ],
      "metadata": {
        "id": "Wla51-Cont9E"
      },
      "execution_count": null,
      "outputs": []
    },
    {
      "cell_type": "markdown",
      "source": [
        "Training Code"
      ],
      "metadata": {
        "id": "pPcs6WWBvLEz"
      }
    },
    {
      "cell_type": "code",
      "source": [
        "# import numpy\n",
        "# import torch.optim as optim\n",
        "\n",
        "# def train(net, dataloader, epochs=1, lr=0.001, momentum=0.0, decay=0.0001, verbose=1):\n",
        "#   net.to(device)\n",
        "#   losses = []\n",
        "#   criterion = nn.CrossEntropyLoss()\n",
        "#   optimizer = optim.SGD(net.parameters(), lr=lr, momentum=momentum, weight_decay=decay)\n",
        "#   for epoch in range(epochs):\n",
        "#     sum_loss = 0.0\n",
        "#     for i, batch in enumerate(dataloader, 0):\n",
        "#         # get the inputs; data is a list of [inputs, labels]\n",
        "#         inputs, labels = batch[0].to(device), batch[1].to(device)\n",
        "\n",
        "#         # zero the parameter gradients\n",
        "#         optimizer.zero_grad()\n",
        "\n",
        "#         # forward + backward + optimize \n",
        "#         outputs = net(inputs)\n",
        "#         #print(outputs)\n",
        "#         loss = criterion(outputs, labels)\n",
        "#         loss.backward()  # autograd magic, computes all the partial derivatives\n",
        "#         optimizer.step() # takes a step in gradient direction\n",
        "\n",
        "#         # print statistics\n",
        "#         losses.append(loss.item())\n",
        "#         sum_loss += loss.item()\n",
        "#         if i % 100 == 99:    # print every 100 mini-batches\n",
        "#             if verbose:\n",
        "#               print('[%d, %5d] loss: %.3f' %\n",
        "#                   (epoch + 1, i + 1, sum_loss / 100))\n",
        "#             sum_loss = 0.0\n",
        "#   return losses\n",
        "\n",
        "# def accuracy(net, dataloader):\n",
        "#   correct = 0\n",
        "#   total = 0\n",
        "#   with torch.no_grad():\n",
        "#       for batch in dataloader:\n",
        "#           images, labels = batch[0].to(device), batch[1].to(device)\n",
        "#           outputs = net(images)\n",
        "#           _, predicted = torch.max(outputs.data, 1)\n",
        "#           total += labels.size(0)\n",
        "#           correct += (predicted == labels).sum().item()\n",
        "#   return correct/total\n"
      ],
      "metadata": {
        "id": "2w9z4aF2u_AE"
      },
      "execution_count": null,
      "outputs": []
    },
    {
      "cell_type": "markdown",
      "source": [
        "Train the first network"
      ],
      "metadata": {
        "id": "IxZRS7KdUPAl"
      }
    },
    {
      "cell_type": "code",
      "source": [
        "# import matplotlib.pyplot as plt\n",
        "\n",
        "# net = NeuralNetwork()\n",
        "\n",
        "# losses = train(net, train_dataloader, epochs=10)\n",
        "# plt.plot(losses)\n",
        "\n",
        "# print(\"Current training accuracy: %f\" % accuracy(net, train_dataloader))\n",
        "# print(\"Current testing  accuracy: %f\" % accuracy(net, test_dataloader))\n",
        "# # lr                training_accuracy   testing_accuracy\n",
        "# # 0.00001           0.251622            0.254316\n",
        "# # 0.0001            0.284896            0.277102\n",
        "# # 0.001(best)       0.303147            0.303425\n",
        "# # 0.01(default)     0.249540            0.258704\n",
        "# # 0.1               0.172860            0.172092\n",
        "# # \n",
        "# # with lr=0.001 (no effect)\n",
        "# # decay             training_accuracy   testing_accuracy\n",
        "# # 0.0(default)      0.280906            0.289414\n",
        "# # 1                 0.248569            0.258279\n",
        "# # 0.1               0.279900            0.283895\n",
        "# # 0.01              0.302731            0.305265\n",
        "# # 0.001             0.289546            0.290829\n",
        "# # 0.0001            0.305194            0.308378\n",
        "# # 0.00001           0.290552            0.294933\n",
        "# # \n",
        "# # with lr=0.001 and decay=0.0001 (no effect)\n",
        "# # momentum          training_accuracy   testing_accuracy\n",
        "# # 0.0(default)      0.317720            0.312058\n",
        "# # 1                 0.173034            0.172375\n",
        "# # 0.1               0.291454            0.297905\n",
        "# # 0.01              0.288123            0.286584\n",
        "# # 0.001             0.307866            0.312765\n",
        "# # 0.0001            0.297214            0.300028"
      ],
      "metadata": {
        "id": "AUiAZgg8wg4u"
      },
      "execution_count": null,
      "outputs": []
    },
    {
      "cell_type": "markdown",
      "source": [
        "Trainning code for sim and cov"
      ],
      "metadata": {
        "id": "xXz5SMUpWnB3"
      }
    },
    {
      "cell_type": "code",
      "source": [
        "import numpy\n",
        "import torch.optim as optim\n",
        "\n",
        "def train(net, dataloader, epochs=1, lr=0.01, momentum=0.9, decay=0.0, verbose=1):\n",
        "  net.to(device)\n",
        "  losses = []\n",
        "  criterion = nn.CrossEntropyLoss() # Combination softmax + negative log likelihood\n",
        "  optimizer = optim.SGD(net.parameters(), lr=lr, momentum=momentum, weight_decay=decay)\n",
        "  # scheduled learning rate decay\n",
        "  scheduler = optim.ExponentialLR(optimizer, gamma=0.9)\n",
        "\n",
        "  for epoch in range(epochs):\n",
        "    sum_loss = 0.0\n",
        "    for i, batch in enumerate(dataloader, 0):\n",
        "        # get the inputs; data is a list of [inputs, labels]\n",
        "        inputs, labels = batch[0].to(device), batch[1].to(device)\n",
        "\n",
        "        # zero the parameter gradients\n",
        "        optimizer.zero_grad()\n",
        "\n",
        "        # forward + backward + optimize \n",
        "        outputs = net(inputs)\n",
        "        loss = criterion(outputs, labels)\n",
        "        loss.backward()  # autograd magic, computes all the partial derivatives\n",
        "        optimizer.step() # takes a step in gradient direction\n",
        "\n",
        "        # print statistics\n",
        "        losses.append(loss.item())\n",
        "        sum_loss += loss.item()\n",
        "        if i % 100 == 99:    # print every 100 mini-batches\n",
        "            if verbose:\n",
        "              print('[%d, %5d] loss: %.3f' %\n",
        "                  (epoch + 1, i + 1, sum_loss / 100))\n",
        "            sum_loss = 0.0\n",
        "  return losses\n",
        "\n",
        "def accuracy(net, dataloader):\n",
        "  correct = 0\n",
        "  total = 0\n",
        "  with torch.no_grad():\n",
        "      for batch in dataloader:\n",
        "          images, labels = batch[0].to(device), batch[1].to(device)\n",
        "          outputs = net(images)\n",
        "          _, predicted = torch.max(outputs.data, 1)\n",
        "          total += labels.size(0)\n",
        "          correct += (predicted == labels).sum().item()\n",
        "  return correct/total\n",
        "\n",
        "def smooth(x, size):\n",
        "  return numpy.convolve(x, numpy.ones(size)/size, mode='valid')"
      ],
      "metadata": {
        "id": "LFLUCqCBULWz"
      },
      "execution_count": null,
      "outputs": []
    },
    {
      "cell_type": "markdown",
      "source": [
        "Train the simple network"
      ],
      "metadata": {
        "id": "IgTw7DuuUcfI"
      }
    },
    {
      "cell_type": "code",
      "source": [
        "# import matplotlib.pyplot as plt\n",
        "\n",
        "# net = SimpleNet()\n",
        "\n",
        "# losses = train(net, train_dataloader, epochs=15)\n",
        "# plt.plot(smooth(losses,50))\n",
        "\n",
        "# print(\"Training accuracy: %f\" % accuracy(net, train_dataloader))\n",
        "# print(\"Testing  accuracy: %f\" % accuracy(net, test_dataloader))"
      ],
      "metadata": {
        "id": "7Rm_zZi-UeR_"
      },
      "execution_count": null,
      "outputs": []
    },
    {
      "cell_type": "markdown",
      "source": [
        "Train the cov network"
      ],
      "metadata": {
        "id": "_JZhGxrqUorU"
      }
    },
    {
      "cell_type": "code",
      "source": [
        "import matplotlib.pyplot as plt\n",
        "\n",
        "net = ConvNet()\n",
        "\n",
        "losses = train(net, train_dataloader, epochs=15, lr=0.0001)\n",
        "plt.plot(smooth(losses,50))\n",
        "\n",
        "print(\"Training accuracy: %f\" % accuracy(net, train_dataloader))\n",
        "print(\"Testing  accuracy: %f\" % accuracy(net, test_dataloader))\n",
        "# lr                training_accuracy   testing_accuracy\n",
        "# 0.00001           0.354151            0.344750\n",
        "# 0.0001(best)      0.437736            0.411265\n",
        "# 0.001             0.417196            0.395839\n",
        "# 0.01(default)     0.248569            0.258279\n",
        "# 0.1               0.248569            0.258279\n",
        "# \n",
        "# with lr=0.0001 (no effect)\n",
        "# decay             training_accuracy   testing_accuracy\n",
        "# 0                 0.449290            0.420606\n",
        "# 0.001             0.445613            0.421738\n",
        "# 0.01              0.453211            0.416926\n",
        "# 0.1               0.431803            0.416360\n",
        "\n"
      ],
      "metadata": {
        "colab": {
          "base_uri": "https://localhost:8080/",
          "height": 389
        },
        "id": "HxovqOq8Umj6",
        "outputId": "0a9fe3bc-c571-4806-eb37-c884557055db"
      },
      "execution_count": null,
      "outputs": [
        {
          "output_type": "error",
          "ename": "KeyboardInterrupt",
          "evalue": "ignored",
          "traceback": [
            "\u001b[0;31m---------------------------------------------------------------------------\u001b[0m",
            "\u001b[0;31mKeyboardInterrupt\u001b[0m                         Traceback (most recent call last)",
            "\u001b[0;32m<ipython-input-32-f8233dfbc88e>\u001b[0m in \u001b[0;36m<module>\u001b[0;34m()\u001b[0m\n\u001b[1;32m      3\u001b[0m \u001b[0mnet\u001b[0m \u001b[0;34m=\u001b[0m \u001b[0mConvNet\u001b[0m\u001b[0;34m(\u001b[0m\u001b[0;34m)\u001b[0m\u001b[0;34m\u001b[0m\u001b[0;34m\u001b[0m\u001b[0m\n\u001b[1;32m      4\u001b[0m \u001b[0;34m\u001b[0m\u001b[0m\n\u001b[0;32m----> 5\u001b[0;31m \u001b[0mlosses\u001b[0m \u001b[0;34m=\u001b[0m \u001b[0mtrain\u001b[0m\u001b[0;34m(\u001b[0m\u001b[0mnet\u001b[0m\u001b[0;34m,\u001b[0m \u001b[0mtrain_dataloader\u001b[0m\u001b[0;34m,\u001b[0m \u001b[0mepochs\u001b[0m\u001b[0;34m=\u001b[0m\u001b[0;36m15\u001b[0m\u001b[0;34m,\u001b[0m \u001b[0mlr\u001b[0m\u001b[0;34m=\u001b[0m\u001b[0;36m0.0001\u001b[0m\u001b[0;34m)\u001b[0m\u001b[0;34m\u001b[0m\u001b[0;34m\u001b[0m\u001b[0m\n\u001b[0m\u001b[1;32m      6\u001b[0m \u001b[0mplt\u001b[0m\u001b[0;34m.\u001b[0m\u001b[0mplot\u001b[0m\u001b[0;34m(\u001b[0m\u001b[0msmooth\u001b[0m\u001b[0;34m(\u001b[0m\u001b[0mlosses\u001b[0m\u001b[0;34m,\u001b[0m\u001b[0;36m50\u001b[0m\u001b[0;34m)\u001b[0m\u001b[0;34m)\u001b[0m\u001b[0;34m\u001b[0m\u001b[0;34m\u001b[0m\u001b[0m\n\u001b[1;32m      7\u001b[0m \u001b[0;34m\u001b[0m\u001b[0m\n",
            "\u001b[0;32m<ipython-input-20-eba412329b16>\u001b[0m in \u001b[0;36mtrain\u001b[0;34m(net, dataloader, epochs, lr, momentum, decay, verbose)\u001b[0m\n\u001b[1;32m      9\u001b[0m   \u001b[0;32mfor\u001b[0m \u001b[0mepoch\u001b[0m \u001b[0;32min\u001b[0m \u001b[0mrange\u001b[0m\u001b[0;34m(\u001b[0m\u001b[0mepochs\u001b[0m\u001b[0;34m)\u001b[0m\u001b[0;34m:\u001b[0m\u001b[0;34m\u001b[0m\u001b[0;34m\u001b[0m\u001b[0m\n\u001b[1;32m     10\u001b[0m     \u001b[0msum_loss\u001b[0m \u001b[0;34m=\u001b[0m \u001b[0;36m0.0\u001b[0m\u001b[0;34m\u001b[0m\u001b[0;34m\u001b[0m\u001b[0m\n\u001b[0;32m---> 11\u001b[0;31m     \u001b[0;32mfor\u001b[0m \u001b[0mi\u001b[0m\u001b[0;34m,\u001b[0m \u001b[0mbatch\u001b[0m \u001b[0;32min\u001b[0m \u001b[0menumerate\u001b[0m\u001b[0;34m(\u001b[0m\u001b[0mdataloader\u001b[0m\u001b[0;34m,\u001b[0m \u001b[0;36m0\u001b[0m\u001b[0;34m)\u001b[0m\u001b[0;34m:\u001b[0m\u001b[0;34m\u001b[0m\u001b[0;34m\u001b[0m\u001b[0m\n\u001b[0m\u001b[1;32m     12\u001b[0m         \u001b[0;31m# get the inputs; data is a list of [inputs, labels]\u001b[0m\u001b[0;34m\u001b[0m\u001b[0;34m\u001b[0m\u001b[0;34m\u001b[0m\u001b[0m\n\u001b[1;32m     13\u001b[0m         \u001b[0minputs\u001b[0m\u001b[0;34m,\u001b[0m \u001b[0mlabels\u001b[0m \u001b[0;34m=\u001b[0m \u001b[0mbatch\u001b[0m\u001b[0;34m[\u001b[0m\u001b[0;36m0\u001b[0m\u001b[0;34m]\u001b[0m\u001b[0;34m.\u001b[0m\u001b[0mto\u001b[0m\u001b[0;34m(\u001b[0m\u001b[0mdevice\u001b[0m\u001b[0;34m)\u001b[0m\u001b[0;34m,\u001b[0m \u001b[0mbatch\u001b[0m\u001b[0;34m[\u001b[0m\u001b[0;36m1\u001b[0m\u001b[0;34m]\u001b[0m\u001b[0;34m.\u001b[0m\u001b[0mto\u001b[0m\u001b[0;34m(\u001b[0m\u001b[0mdevice\u001b[0m\u001b[0;34m)\u001b[0m\u001b[0;34m\u001b[0m\u001b[0;34m\u001b[0m\u001b[0m\n",
            "\u001b[0;32m/usr/local/lib/python3.7/dist-packages/torch/utils/data/dataloader.py\u001b[0m in \u001b[0;36m__next__\u001b[0;34m(self)\u001b[0m\n\u001b[1;32m    519\u001b[0m             \u001b[0;32mif\u001b[0m \u001b[0mself\u001b[0m\u001b[0;34m.\u001b[0m\u001b[0m_sampler_iter\u001b[0m \u001b[0;32mis\u001b[0m \u001b[0;32mNone\u001b[0m\u001b[0;34m:\u001b[0m\u001b[0;34m\u001b[0m\u001b[0;34m\u001b[0m\u001b[0m\n\u001b[1;32m    520\u001b[0m                 \u001b[0mself\u001b[0m\u001b[0;34m.\u001b[0m\u001b[0m_reset\u001b[0m\u001b[0;34m(\u001b[0m\u001b[0;34m)\u001b[0m\u001b[0;34m\u001b[0m\u001b[0;34m\u001b[0m\u001b[0m\n\u001b[0;32m--> 521\u001b[0;31m             \u001b[0mdata\u001b[0m \u001b[0;34m=\u001b[0m \u001b[0mself\u001b[0m\u001b[0;34m.\u001b[0m\u001b[0m_next_data\u001b[0m\u001b[0;34m(\u001b[0m\u001b[0;34m)\u001b[0m\u001b[0;34m\u001b[0m\u001b[0;34m\u001b[0m\u001b[0m\n\u001b[0m\u001b[1;32m    522\u001b[0m             \u001b[0mself\u001b[0m\u001b[0;34m.\u001b[0m\u001b[0m_num_yielded\u001b[0m \u001b[0;34m+=\u001b[0m \u001b[0;36m1\u001b[0m\u001b[0;34m\u001b[0m\u001b[0;34m\u001b[0m\u001b[0m\n\u001b[1;32m    523\u001b[0m             \u001b[0;32mif\u001b[0m \u001b[0mself\u001b[0m\u001b[0;34m.\u001b[0m\u001b[0m_dataset_kind\u001b[0m \u001b[0;34m==\u001b[0m \u001b[0m_DatasetKind\u001b[0m\u001b[0;34m.\u001b[0m\u001b[0mIterable\u001b[0m \u001b[0;32mand\u001b[0m\u001b[0;31m \u001b[0m\u001b[0;31m\\\u001b[0m\u001b[0;34m\u001b[0m\u001b[0;34m\u001b[0m\u001b[0m\n",
            "\u001b[0;32m/usr/local/lib/python3.7/dist-packages/torch/utils/data/dataloader.py\u001b[0m in \u001b[0;36m_next_data\u001b[0;34m(self)\u001b[0m\n\u001b[1;32m    559\u001b[0m     \u001b[0;32mdef\u001b[0m \u001b[0m_next_data\u001b[0m\u001b[0;34m(\u001b[0m\u001b[0mself\u001b[0m\u001b[0;34m)\u001b[0m\u001b[0;34m:\u001b[0m\u001b[0;34m\u001b[0m\u001b[0;34m\u001b[0m\u001b[0m\n\u001b[1;32m    560\u001b[0m         \u001b[0mindex\u001b[0m \u001b[0;34m=\u001b[0m \u001b[0mself\u001b[0m\u001b[0;34m.\u001b[0m\u001b[0m_next_index\u001b[0m\u001b[0;34m(\u001b[0m\u001b[0;34m)\u001b[0m  \u001b[0;31m# may raise StopIteration\u001b[0m\u001b[0;34m\u001b[0m\u001b[0;34m\u001b[0m\u001b[0m\n\u001b[0;32m--> 561\u001b[0;31m         \u001b[0mdata\u001b[0m \u001b[0;34m=\u001b[0m \u001b[0mself\u001b[0m\u001b[0;34m.\u001b[0m\u001b[0m_dataset_fetcher\u001b[0m\u001b[0;34m.\u001b[0m\u001b[0mfetch\u001b[0m\u001b[0;34m(\u001b[0m\u001b[0mindex\u001b[0m\u001b[0;34m)\u001b[0m  \u001b[0;31m# may raise StopIteration\u001b[0m\u001b[0;34m\u001b[0m\u001b[0;34m\u001b[0m\u001b[0m\n\u001b[0m\u001b[1;32m    562\u001b[0m         \u001b[0;32mif\u001b[0m \u001b[0mself\u001b[0m\u001b[0;34m.\u001b[0m\u001b[0m_pin_memory\u001b[0m\u001b[0;34m:\u001b[0m\u001b[0;34m\u001b[0m\u001b[0;34m\u001b[0m\u001b[0m\n\u001b[1;32m    563\u001b[0m             \u001b[0mdata\u001b[0m \u001b[0;34m=\u001b[0m \u001b[0m_utils\u001b[0m\u001b[0;34m.\u001b[0m\u001b[0mpin_memory\u001b[0m\u001b[0;34m.\u001b[0m\u001b[0mpin_memory\u001b[0m\u001b[0;34m(\u001b[0m\u001b[0mdata\u001b[0m\u001b[0;34m)\u001b[0m\u001b[0;34m\u001b[0m\u001b[0;34m\u001b[0m\u001b[0m\n",
            "\u001b[0;32m/usr/local/lib/python3.7/dist-packages/torch/utils/data/_utils/fetch.py\u001b[0m in \u001b[0;36mfetch\u001b[0;34m(self, possibly_batched_index)\u001b[0m\n\u001b[1;32m     47\u001b[0m     \u001b[0;32mdef\u001b[0m \u001b[0mfetch\u001b[0m\u001b[0;34m(\u001b[0m\u001b[0mself\u001b[0m\u001b[0;34m,\u001b[0m \u001b[0mpossibly_batched_index\u001b[0m\u001b[0;34m)\u001b[0m\u001b[0;34m:\u001b[0m\u001b[0;34m\u001b[0m\u001b[0;34m\u001b[0m\u001b[0m\n\u001b[1;32m     48\u001b[0m         \u001b[0;32mif\u001b[0m \u001b[0mself\u001b[0m\u001b[0;34m.\u001b[0m\u001b[0mauto_collation\u001b[0m\u001b[0;34m:\u001b[0m\u001b[0;34m\u001b[0m\u001b[0;34m\u001b[0m\u001b[0m\n\u001b[0;32m---> 49\u001b[0;31m             \u001b[0mdata\u001b[0m \u001b[0;34m=\u001b[0m \u001b[0;34m[\u001b[0m\u001b[0mself\u001b[0m\u001b[0;34m.\u001b[0m\u001b[0mdataset\u001b[0m\u001b[0;34m[\u001b[0m\u001b[0midx\u001b[0m\u001b[0;34m]\u001b[0m \u001b[0;32mfor\u001b[0m \u001b[0midx\u001b[0m \u001b[0;32min\u001b[0m \u001b[0mpossibly_batched_index\u001b[0m\u001b[0;34m]\u001b[0m\u001b[0;34m\u001b[0m\u001b[0;34m\u001b[0m\u001b[0m\n\u001b[0m\u001b[1;32m     50\u001b[0m         \u001b[0;32melse\u001b[0m\u001b[0;34m:\u001b[0m\u001b[0;34m\u001b[0m\u001b[0;34m\u001b[0m\u001b[0m\n\u001b[1;32m     51\u001b[0m             \u001b[0mdata\u001b[0m \u001b[0;34m=\u001b[0m \u001b[0mself\u001b[0m\u001b[0;34m.\u001b[0m\u001b[0mdataset\u001b[0m\u001b[0;34m[\u001b[0m\u001b[0mpossibly_batched_index\u001b[0m\u001b[0;34m]\u001b[0m\u001b[0;34m\u001b[0m\u001b[0;34m\u001b[0m\u001b[0m\n",
            "\u001b[0;32m/usr/local/lib/python3.7/dist-packages/torch/utils/data/_utils/fetch.py\u001b[0m in \u001b[0;36m<listcomp>\u001b[0;34m(.0)\u001b[0m\n\u001b[1;32m     47\u001b[0m     \u001b[0;32mdef\u001b[0m \u001b[0mfetch\u001b[0m\u001b[0;34m(\u001b[0m\u001b[0mself\u001b[0m\u001b[0;34m,\u001b[0m \u001b[0mpossibly_batched_index\u001b[0m\u001b[0;34m)\u001b[0m\u001b[0;34m:\u001b[0m\u001b[0;34m\u001b[0m\u001b[0;34m\u001b[0m\u001b[0m\n\u001b[1;32m     48\u001b[0m         \u001b[0;32mif\u001b[0m \u001b[0mself\u001b[0m\u001b[0;34m.\u001b[0m\u001b[0mauto_collation\u001b[0m\u001b[0;34m:\u001b[0m\u001b[0;34m\u001b[0m\u001b[0;34m\u001b[0m\u001b[0m\n\u001b[0;32m---> 49\u001b[0;31m             \u001b[0mdata\u001b[0m \u001b[0;34m=\u001b[0m \u001b[0;34m[\u001b[0m\u001b[0mself\u001b[0m\u001b[0;34m.\u001b[0m\u001b[0mdataset\u001b[0m\u001b[0;34m[\u001b[0m\u001b[0midx\u001b[0m\u001b[0;34m]\u001b[0m \u001b[0;32mfor\u001b[0m \u001b[0midx\u001b[0m \u001b[0;32min\u001b[0m \u001b[0mpossibly_batched_index\u001b[0m\u001b[0;34m]\u001b[0m\u001b[0;34m\u001b[0m\u001b[0;34m\u001b[0m\u001b[0m\n\u001b[0m\u001b[1;32m     50\u001b[0m         \u001b[0;32melse\u001b[0m\u001b[0;34m:\u001b[0m\u001b[0;34m\u001b[0m\u001b[0;34m\u001b[0m\u001b[0m\n\u001b[1;32m     51\u001b[0m             \u001b[0mdata\u001b[0m \u001b[0;34m=\u001b[0m \u001b[0mself\u001b[0m\u001b[0;34m.\u001b[0m\u001b[0mdataset\u001b[0m\u001b[0;34m[\u001b[0m\u001b[0mpossibly_batched_index\u001b[0m\u001b[0;34m]\u001b[0m\u001b[0;34m\u001b[0m\u001b[0;34m\u001b[0m\u001b[0m\n",
            "\u001b[0;32m<ipython-input-28-ea0c020e7507>\u001b[0m in \u001b[0;36m__getitem__\u001b[0;34m(self, idx)\u001b[0m\n\u001b[1;32m     15\u001b[0m   \u001b[0;32mdef\u001b[0m \u001b[0m__getitem__\u001b[0m\u001b[0;34m(\u001b[0m\u001b[0mself\u001b[0m\u001b[0;34m,\u001b[0m \u001b[0midx\u001b[0m\u001b[0;34m)\u001b[0m\u001b[0;34m:\u001b[0m\u001b[0;34m\u001b[0m\u001b[0;34m\u001b[0m\u001b[0m\n\u001b[1;32m     16\u001b[0m     \u001b[0mimg_path\u001b[0m \u001b[0;34m=\u001b[0m \u001b[0mos\u001b[0m\u001b[0;34m.\u001b[0m\u001b[0mpath\u001b[0m\u001b[0;34m.\u001b[0m\u001b[0mjoin\u001b[0m\u001b[0;34m(\u001b[0m\u001b[0mself\u001b[0m\u001b[0;34m.\u001b[0m\u001b[0mdirectory\u001b[0m\u001b[0;34m,\u001b[0m \u001b[0mself\u001b[0m\u001b[0;34m.\u001b[0m\u001b[0marr\u001b[0m\u001b[0;34m[\u001b[0m\u001b[0midx\u001b[0m\u001b[0;34m]\u001b[0m\u001b[0;34m[\u001b[0m\u001b[0;36m0\u001b[0m\u001b[0;34m]\u001b[0m\u001b[0;34m,\u001b[0m \u001b[0mself\u001b[0m\u001b[0;34m.\u001b[0m\u001b[0marr\u001b[0m\u001b[0;34m[\u001b[0m\u001b[0midx\u001b[0m\u001b[0;34m]\u001b[0m\u001b[0;34m[\u001b[0m\u001b[0;36m1\u001b[0m\u001b[0;34m]\u001b[0m \u001b[0;34m+\u001b[0m \u001b[0;34m\".jpg\"\u001b[0m\u001b[0;34m)\u001b[0m\u001b[0;34m\u001b[0m\u001b[0;34m\u001b[0m\u001b[0m\n\u001b[0;32m---> 17\u001b[0;31m     \u001b[0mimage\u001b[0m \u001b[0;34m=\u001b[0m \u001b[0mread_image\u001b[0m\u001b[0;34m(\u001b[0m\u001b[0mimg_path\u001b[0m\u001b[0;34m)\u001b[0m\u001b[0;34m\u001b[0m\u001b[0;34m\u001b[0m\u001b[0m\n\u001b[0m\u001b[1;32m     18\u001b[0m     \u001b[0mimage\u001b[0m \u001b[0;34m=\u001b[0m \u001b[0mimage\u001b[0m\u001b[0;34m.\u001b[0m\u001b[0mtype\u001b[0m\u001b[0;34m(\u001b[0m\u001b[0mtorch\u001b[0m\u001b[0;34m.\u001b[0m\u001b[0mfloat\u001b[0m\u001b[0;34m)\u001b[0m\u001b[0;34m\u001b[0m\u001b[0;34m\u001b[0m\u001b[0m\n\u001b[1;32m     19\u001b[0m     \u001b[0mlabel\u001b[0m \u001b[0;34m=\u001b[0m \u001b[0mself\u001b[0m\u001b[0;34m.\u001b[0m\u001b[0mlabel_dict\u001b[0m\u001b[0;34m[\u001b[0m\u001b[0mself\u001b[0m\u001b[0;34m.\u001b[0m\u001b[0marr\u001b[0m\u001b[0;34m[\u001b[0m\u001b[0midx\u001b[0m\u001b[0;34m]\u001b[0m\u001b[0;34m[\u001b[0m\u001b[0;36m0\u001b[0m\u001b[0;34m]\u001b[0m\u001b[0;34m]\u001b[0m\u001b[0;34m\u001b[0m\u001b[0;34m\u001b[0m\u001b[0m\n",
            "\u001b[0;32m/usr/local/lib/python3.7/dist-packages/torchvision/io/image.py\u001b[0m in \u001b[0;36mread_image\u001b[0;34m(path, mode)\u001b[0m\n\u001b[1;32m    221\u001b[0m     \"\"\"\n\u001b[1;32m    222\u001b[0m     \u001b[0mdata\u001b[0m \u001b[0;34m=\u001b[0m \u001b[0mread_file\u001b[0m\u001b[0;34m(\u001b[0m\u001b[0mpath\u001b[0m\u001b[0;34m)\u001b[0m\u001b[0;34m\u001b[0m\u001b[0;34m\u001b[0m\u001b[0m\n\u001b[0;32m--> 223\u001b[0;31m     \u001b[0;32mreturn\u001b[0m \u001b[0mdecode_image\u001b[0m\u001b[0;34m(\u001b[0m\u001b[0mdata\u001b[0m\u001b[0;34m,\u001b[0m \u001b[0mmode\u001b[0m\u001b[0;34m)\u001b[0m\u001b[0;34m\u001b[0m\u001b[0;34m\u001b[0m\u001b[0m\n\u001b[0m",
            "\u001b[0;32m/usr/local/lib/python3.7/dist-packages/torchvision/io/image.py\u001b[0m in \u001b[0;36mdecode_image\u001b[0;34m(input, mode)\u001b[0m\n\u001b[1;32m    200\u001b[0m         \u001b[0moutput\u001b[0m \u001b[0;34m(\u001b[0m\u001b[0mTensor\u001b[0m\u001b[0;34m[\u001b[0m\u001b[0mimage_channels\u001b[0m\u001b[0;34m,\u001b[0m \u001b[0mimage_height\u001b[0m\u001b[0;34m,\u001b[0m \u001b[0mimage_width\u001b[0m\u001b[0;34m]\u001b[0m\u001b[0;34m)\u001b[0m\u001b[0;34m\u001b[0m\u001b[0;34m\u001b[0m\u001b[0m\n\u001b[1;32m    201\u001b[0m     \"\"\"\n\u001b[0;32m--> 202\u001b[0;31m     \u001b[0moutput\u001b[0m \u001b[0;34m=\u001b[0m \u001b[0mtorch\u001b[0m\u001b[0;34m.\u001b[0m\u001b[0mops\u001b[0m\u001b[0;34m.\u001b[0m\u001b[0mimage\u001b[0m\u001b[0;34m.\u001b[0m\u001b[0mdecode_image\u001b[0m\u001b[0;34m(\u001b[0m\u001b[0minput\u001b[0m\u001b[0;34m,\u001b[0m \u001b[0mmode\u001b[0m\u001b[0;34m.\u001b[0m\u001b[0mvalue\u001b[0m\u001b[0;34m)\u001b[0m\u001b[0;34m\u001b[0m\u001b[0;34m\u001b[0m\u001b[0m\n\u001b[0m\u001b[1;32m    203\u001b[0m     \u001b[0;32mreturn\u001b[0m \u001b[0moutput\u001b[0m\u001b[0;34m\u001b[0m\u001b[0;34m\u001b[0m\u001b[0m\n\u001b[1;32m    204\u001b[0m \u001b[0;34m\u001b[0m\u001b[0m\n",
            "\u001b[0;31mKeyboardInterrupt\u001b[0m: "
          ]
        }
      ]
    },
    {
      "cell_type": "markdown",
      "source": [
        "Simulated Annealing"
      ],
      "metadata": {
        "id": "qtp4adoejiuz"
      }
    },
    {
      "cell_type": "code",
      "source": [
        "import matplotlib.pyplot as plt\n",
        "\n",
        "# (no effect)\n",
        "anneal_net = ConvNet()\n",
        "\n",
        "anneal_losses =  train(anneal_net, train_dataloader, epochs=5, lr=.0001)\n",
        "anneal_losses += train(anneal_net, train_dataloader, epochs=5, lr=.00001)\n",
        "anneal_losses += train(anneal_net, train_dataloader, epochs=5, lr=.000001)\n",
        "\n",
        "plt.plot(smooth(anneal_losses, 50))\n",
        "\n",
        "print(\"Training accuracy: %f\" % accuracy(anneal_net, train_dataloader))\n",
        "print(\"Testing  accuracy: %f\" % accuracy(anneal_net, test_dataloader))"
      ],
      "metadata": {
        "colab": {
          "base_uri": "https://localhost:8080/",
          "height": 836
        },
        "id": "dAHdu2cOjgDv",
        "outputId": "4a3df16a-4c05-48e1-a0fe-d204e998a83f"
      },
      "execution_count": null,
      "outputs": [
        {
          "output_type": "stream",
          "name": "stdout",
          "text": [
            "[1,   100] loss: 2.423\n",
            "[1,   200] loss: 1.804\n",
            "[2,   100] loss: 1.759\n",
            "[2,   200] loss: 1.722\n",
            "[3,   100] loss: 1.687\n",
            "[3,   200] loss: 1.684\n",
            "[4,   100] loss: 1.661\n",
            "[4,   200] loss: 1.638\n",
            "[5,   100] loss: 1.627\n",
            "[5,   200] loss: 1.624\n",
            "[1,   100] loss: 1.602\n",
            "[1,   200] loss: 1.599\n",
            "[2,   100] loss: 1.597\n",
            "[2,   200] loss: 1.598\n",
            "[3,   100] loss: 1.600\n",
            "[3,   200] loss: 1.592\n",
            "[4,   100] loss: 1.602\n",
            "[4,   200] loss: 1.583\n",
            "[5,   100] loss: 1.595\n",
            "[5,   200] loss: 1.580\n",
            "[1,   100] loss: 1.590\n",
            "[1,   200] loss: 1.588\n",
            "[2,   100] loss: 1.589\n",
            "[2,   200] loss: 1.585\n",
            "[3,   100] loss: 1.591\n",
            "[3,   200] loss: 1.580\n",
            "[4,   100] loss: 1.587\n",
            "[4,   200] loss: 1.583\n",
            "[5,   100] loss: 1.579\n",
            "[5,   200] loss: 1.590\n",
            "Training accuracy: 0.390167\n",
            "Testing  accuracy: 0.383385\n"
          ]
        },
        {
          "output_type": "display_data",
          "data": {
            "image/png": "[encoded data removed]",
            "text/plain": [
              "<Figure size 432x288 with 1 Axes>"
            ]
          },
          "metadata": {
            "needs_background": "light"
          }
        }
      ]
    },
    {
      "cell_type": "markdown",
      "source": [
        "Batch Normalization"
      ],
      "metadata": {
        "id": "D0D5si7IlHKS"
      }
    },
    {
      "cell_type": "code",
      "source": [
        "class ConvBNNet(nn.Module):\n",
        "    def __init__(self):\n",
        "        super(ConvBNNet, self).__init__() # https://pytorch.org/docs/stable/generated/torch.nn.Conv2d.html\n",
        "        self.conv1 = nn.Conv2d(1, 16, 3, stride=2, padding=1)\n",
        "        self.bn1 = nn.BatchNorm2d(16)\n",
        "        self.conv2 = nn.Conv2d(16, 32, 3, stride=2, padding=1)\n",
        "        self.bn2 = nn.BatchNorm2d(32)\n",
        "        self.conv3 = nn.Conv2d(32, 64, 3, stride=2, padding=1)\n",
        "        self.bn3 = nn.BatchNorm2d(64)\n",
        "        #self.fc1 = nn.Linear(2304, 10)\n",
        "        self.fc1 = nn.Linear(2304, 7)\n",
        "        \n",
        "\n",
        "    def forward(self, x):\n",
        "        x = self.conv1(x)\n",
        "        x = self.bn1(x)\n",
        "        x = F.relu(x)\n",
        "        x = self.conv2(x)\n",
        "        x = self.bn2(x)\n",
        "        x = F.relu(x)\n",
        "        x = self.conv3(x)\n",
        "        x = self.bn3(x)\n",
        "        x = F.relu(x)\n",
        "        x = torch.flatten(x, 1)\n",
        "        x = self.fc1(x)\n",
        "        return x\n",
        "\n"
      ],
      "metadata": {
        "id": "xeFPSiqMlKuk"
      },
      "execution_count": null,
      "outputs": []
    },
    {
      "cell_type": "code",
      "source": [
        "norm_net = ConvBNNet()\n",
        "\n",
        "norm_losses = train(norm_net, train_dataloader, epochs=15, lr=.01)\n",
        "\n",
        "plt.plot(smooth(norm_losses, 50))\n",
        "\n",
        "print(\"Training accuracy: %f\" % accuracy(norm_net, train_dataloader))\n",
        "print(\"Testing  accuracy: %f\" % accuracy(norm_net, test_dataloader))\n",
        "# lr                training_accuracy   testing_accuracy \n",
        "# 0.001             0.614760            0.436598\n",
        "# 0.01(default)     0.796954            0.452165\n",
        "# 0.1               0.492245            0.425984"
      ],
      "metadata": {
        "colab": {
          "base_uri": "https://localhost:8080/",
          "height": 839
        },
        "id": "D72yFfk1lRLc",
        "outputId": "3a996b68-7617-491f-c51a-679113de8999"
      },
      "execution_count": null,
      "outputs": [
        {
          "output_type": "stream",
          "name": "stdout",
          "text": [
            "[1,   100] loss: 1.721\n",
            "[1,   200] loss: 1.594\n",
            "[2,   100] loss: 1.454\n",
            "[2,   200] loss: 1.419\n",
            "[3,   100] loss: 1.311\n",
            "[3,   200] loss: 1.323\n",
            "[4,   100] loss: 1.213\n",
            "[4,   200] loss: 1.220\n",
            "[5,   100] loss: 1.148\n",
            "[5,   200] loss: 1.175\n",
            "[6,   100] loss: 1.074\n",
            "[6,   200] loss: 1.114\n",
            "[7,   100] loss: 1.026\n",
            "[7,   200] loss: 1.054\n",
            "[8,   100] loss: 0.962\n",
            "[8,   200] loss: 1.018\n",
            "[9,   100] loss: 0.911\n",
            "[9,   200] loss: 0.968\n",
            "[10,   100] loss: 0.862\n",
            "[10,   200] loss: 0.937\n",
            "[11,   100] loss: 0.833\n",
            "[11,   200] loss: 0.900\n",
            "[12,   100] loss: 0.806\n",
            "[12,   200] loss: 0.862\n",
            "[13,   100] loss: 0.777\n",
            "[13,   200] loss: 0.834\n",
            "[14,   100] loss: 0.732\n",
            "[14,   200] loss: 0.795\n",
            "[15,   100] loss: 0.712\n",
            "[15,   200] loss: 0.759\n",
            "Training accuracy: 0.781930\n",
            "Testing  accuracy: 0.447920\n"
          ]
        },
        {
          "output_type": "display_data",
          "data": {
            "image/png": "[encoded data removed]",
            "text/plain": [
              "<Figure size 432x288 with 1 Axes>"
            ]
          },
          "metadata": {
            "needs_background": "light"
          }
        }
      ]
    },
    {
      "cell_type": "code",
      "source": [
        "anneal2_net = ConvBNNet()\n",
        "\n",
        "anneal2_losses =  train(anneal2_net, train_dataloader, epochs=5, lr=.01)\n",
        "anneal2_losses += train(anneal2_net, train_dataloader, epochs=5, lr=.001)\n",
        "anneal2_losses += train(anneal2_net, train_dataloader, epochs=5, lr=.0001)\n",
        "\n",
        "\n",
        "plt.plot(smooth(anneal2_losses, 50))\n",
        "\n",
        "print(\"Training accuracy: %f\" % accuracy(anneal2_net, train_dataloader))\n",
        "print(\"Testing  accuracy: %f\" % accuracy(anneal2_net, test_dataloader))\n",
        "\n",
        "#training_accuracy   testing_accuracy     kernal size\n",
        "#0.709760            0.474101               3\n",
        "#0.778842            0.492641               5"
      ],
      "metadata": {
        "colab": {
          "base_uri": "https://localhost:8080/",
          "height": 836
        },
        "id": "VqM1wES5pjDZ",
        "outputId": "2d4b0e90-cf98-4723-b86d-64a8f5b72b7c"
      },
      "execution_count": null,
      "outputs": [
        {
          "output_type": "stream",
          "name": "stdout",
          "text": [
            "[1,   100] loss: 1.738\n",
            "[1,   200] loss: 1.588\n",
            "[2,   100] loss: 1.438\n",
            "[2,   200] loss: 1.410\n",
            "[3,   100] loss: 1.298\n",
            "[3,   200] loss: 1.307\n",
            "[4,   100] loss: 1.223\n",
            "[4,   200] loss: 1.226\n",
            "[5,   100] loss: 1.136\n",
            "[5,   200] loss: 1.158\n",
            "[1,   100] loss: 1.000\n",
            "[1,   200] loss: 0.977\n",
            "[2,   100] loss: 0.952\n",
            "[2,   200] loss: 0.960\n",
            "[3,   100] loss: 0.930\n",
            "[3,   200] loss: 0.941\n",
            "[4,   100] loss: 0.920\n",
            "[4,   200] loss: 0.928\n",
            "[5,   100] loss: 0.899\n",
            "[5,   200] loss: 0.921\n",
            "[1,   100] loss: 0.877\n",
            "[1,   200] loss: 0.893\n",
            "[2,   100] loss: 0.877\n",
            "[2,   200] loss: 0.890\n",
            "[3,   100] loss: 0.884\n",
            "[3,   200] loss: 0.880\n",
            "[4,   100] loss: 0.882\n",
            "[4,   200] loss: 0.882\n",
            "[5,   100] loss: 0.876\n",
            "[5,   200] loss: 0.885\n",
            "Training accuracy: 0.697859\n",
            "Testing  accuracy: 0.471978\n"
          ]
        },
        {
          "output_type": "display_data",
          "data": {
            "image/png": "[encoded data removed]",
            "text/plain": [
              "<Figure size 432x288 with 1 Axes>"
            ]
          },
          "metadata": {
            "needs_background": "light"
          }
        }
      ]
    },
    {
      "cell_type": "markdown",
      "source": [
        "Weight Decay"
      ],
      "metadata": {
        "id": "ls_4Oij4rDux"
      }
    },
    {
      "cell_type": "code",
      "source": [
        "decay_net = ConvBNNet()\n",
        "\n",
        "decay_losses =  train(decay_net, train_dataloader, epochs=5, lr=.01  , decay = .01)\n",
        "decay_losses += train(decay_net, train_dataloader, epochs=5, lr=.001 , decay = .01)\n",
        "decay_losses += train(decay_net, train_dataloader, epochs=5, lr=.0001, decay = .01)\n",
        "\n",
        "\n",
        "plt.plot(smooth(decay_losses, 50))\n",
        "\n",
        "print(\"Training accuracy: %f\" % accuracy(decay_net, train_dataloader))\n",
        "print(\"Testing  accuracy: %f\" % accuracy(decay_net, test_dataloader))\n",
        "\n",
        "#training_accuracy   testing_accuracy     kernal size\n",
        "#0.633115            0.484432               3\n",
        "#0.713022            0.504953               5"
      ],
      "metadata": {
        "colab": {
          "base_uri": "https://localhost:8080/",
          "height": 836
        },
        "id": "FGAnUkLfrFGI",
        "outputId": "3b4876a0-a45f-448e-c00c-6ce9c553088e"
      },
      "execution_count": null,
      "outputs": [
        {
          "output_type": "stream",
          "name": "stdout",
          "text": [
            "[1,   100] loss: 1.717\n",
            "[1,   200] loss: 1.564\n",
            "[2,   100] loss: 1.415\n",
            "[2,   200] loss: 1.410\n",
            "[3,   100] loss: 1.322\n",
            "[3,   200] loss: 1.344\n",
            "[4,   100] loss: 1.275\n",
            "[4,   200] loss: 1.291\n",
            "[5,   100] loss: 1.234\n",
            "[5,   200] loss: 1.274\n",
            "[1,   100] loss: 1.162\n",
            "[1,   200] loss: 1.137\n",
            "[2,   100] loss: 1.116\n",
            "[2,   200] loss: 1.113\n",
            "[3,   100] loss: 1.099\n",
            "[3,   200] loss: 1.099\n",
            "[4,   100] loss: 1.093\n",
            "[4,   200] loss: 1.080\n",
            "[5,   100] loss: 1.073\n",
            "[5,   200] loss: 1.078\n",
            "[1,   100] loss: 1.045\n",
            "[1,   200] loss: 1.053\n",
            "[2,   100] loss: 1.045\n",
            "[2,   200] loss: 1.050\n",
            "[3,   100] loss: 1.043\n",
            "[3,   200] loss: 1.044\n",
            "[4,   100] loss: 1.042\n",
            "[4,   200] loss: 1.035\n",
            "[5,   100] loss: 1.036\n",
            "[5,   200] loss: 1.041\n",
            "Training accuracy: 0.634399\n",
            "Testing  accuracy: 0.489952\n"
          ]
        },
        {
          "output_type": "display_data",
          "data": {
            "image/png": "[encoded data removed]",
            "text/plain": [
              "<Figure size 432x288 with 1 Axes>"
            ]
          },
          "metadata": {
            "needs_background": "light"
          }
        }
      ]
    },
    {
      "cell_type": "code",
      "source": [
        "from torch.utils.data import DataLoader\n",
        "\n",
        "trainDatasetAug = facialDatasetAug(\"/root/images/train\")\n",
        "testDatasetAug = facialDatasetAug(\"/root/images/validation\")\n",
        "\n",
        "train_dataloader_aug = DataLoader(trainDatasetAug, batch_size=128, shuffle=True, num_workers=2)\n",
        "test_dataloader_aug = DataLoader(testDatasetAug, batch_size=128, shuffle=False, num_workers=2)\n",
        "\n",
        "data_net = ConvBNNet()\n",
        "\n",
        "data_losses =  train(data_net, train_dataloader_aug, epochs=20, lr=.01  , decay = .01)\n",
        "data_losses += train(data_net, train_dataloader_aug, epochs=30, lr=.001 , decay = .01)\n",
        "data_losses += train(data_net, train_dataloader_aug, epochs=50, lr=.0001, decay = .01)\n",
        "\n",
        "\n",
        "plt.plot(smooth(data_losses, 50))\n",
        "\n",
        "print(\"Training accuracy: %f\" % accuracy(data_net, train_dataloader_aug))\n",
        "print(\"Testing  accuracy: %f\" % accuracy(data_net, test_dataloader_aug))\n"
      ],
      "metadata": {
        "colab": {
          "base_uri": "https://localhost:8080/",
          "height": 240
        },
        "id": "pruWfKmUwBXH",
        "outputId": "f54ec5a7-0006-4f13-fd8a-b822a6faa827"
      },
      "execution_count": null,
      "outputs": [
        {
          "output_type": "error",
          "ename": "TypeError",
          "evalue": "ignored",
          "traceback": [
            "\u001b[0;31m---------------------------------------------------------------------------\u001b[0m",
            "\u001b[0;31mTypeError\u001b[0m                                 Traceback (most recent call last)",
            "\u001b[0;32m<ipython-input-10-18b6dfabb203>\u001b[0m in \u001b[0;36m<module>\u001b[0;34m()\u001b[0m\n\u001b[1;32m      1\u001b[0m \u001b[0;32mfrom\u001b[0m \u001b[0mtorch\u001b[0m\u001b[0;34m.\u001b[0m\u001b[0mutils\u001b[0m\u001b[0;34m.\u001b[0m\u001b[0mdata\u001b[0m \u001b[0;32mimport\u001b[0m \u001b[0mDataLoader\u001b[0m\u001b[0;34m\u001b[0m\u001b[0;34m\u001b[0m\u001b[0m\n\u001b[1;32m      2\u001b[0m \u001b[0;34m\u001b[0m\u001b[0m\n\u001b[0;32m----> 3\u001b[0;31m \u001b[0mtrainDatasetAug\u001b[0m \u001b[0;34m=\u001b[0m \u001b[0mfacialDatasetAug\u001b[0m\u001b[0;34m(\u001b[0m\u001b[0;34m\"/root/images/train\"\u001b[0m\u001b[0;34m)\u001b[0m\u001b[0;34m\u001b[0m\u001b[0;34m\u001b[0m\u001b[0m\n\u001b[0m\u001b[1;32m      4\u001b[0m \u001b[0mtestDatasetAug\u001b[0m \u001b[0;34m=\u001b[0m \u001b[0mfacialDatasetAug\u001b[0m\u001b[0;34m(\u001b[0m\u001b[0;34m\"/root/images/validation\"\u001b[0m\u001b[0;34m)\u001b[0m\u001b[0;34m\u001b[0m\u001b[0;34m\u001b[0m\u001b[0m\n\u001b[1;32m      5\u001b[0m \u001b[0;34m\u001b[0m\u001b[0m\n",
            "\u001b[0;31mTypeError\u001b[0m: __init__() missing 1 required positional argument: 'transform'"
          ]
        }
      ]
    },
    {
      "cell_type": "markdown",
      "source": [
        "Transfer Learning"
      ],
      "metadata": {
        "id": "JnUlxqIA4wyR"
      }
    },
    {
      "cell_type": "code",
      "source": [
        "torch.save(data_net.state_dict(), \"./checkpoint.ckp\")"
      ],
      "metadata": {
        "id": "FFAIoAkup9jT"
      },
      "execution_count": null,
      "outputs": []
    },
    {
      "cell_type": "code",
      "source": [
        "import matplotlib.pyplot as plt\n",
        "model = torch.hub.load('pytorch/vision:v0.6.0', 'resnet18', pretrained=True)\n",
        "transform_train = transforms.Compose([\n",
        "      transforms.Resize(128),\n",
        "      transforms.RandomCrop(128, padding=8, padding_mode='edge'), # Take 128x128 crops from 136x136 padded images\n",
        "      transforms.RandomHorizontalFlip(),    # 50% of time flip image along y-axis\n",
        "      transforms.Lambda(lambda x: x.repeat(3, 1, 1))\n",
        "      # transforms.ToTensor(),\n",
        "    ])\n",
        "\n",
        "transform_test = transforms.Compose([\n",
        "    transforms.Resize(128),\n",
        "    transforms.Lambda(lambda x: x.repeat(3, 1, 1))\n",
        "    # transforms.ToTensor(),\n",
        "  ])\n",
        "\n",
        "\n",
        "trainDatasetAug = facialDatasetAug(\"/root/images/train\", transform_train)\n",
        "testDatasetAug = facialDatasetAug(\"/root/images/validation\", transform_test)\n",
        "train_dataloader_aug = DataLoader(trainDatasetAug, batch_size=128, shuffle=True, num_workers=2)\n",
        "test_dataloader_aug = DataLoader(testDatasetAug, batch_size=128, shuffle=False, num_workers=2)\n",
        "\n",
        "model.fc = nn.Linear(512, 7) # Reinitializes final layer, assigns random weights\n",
        "\n",
        "resnet_losses = train(model, train_dataloader_aug, epochs=50, lr=.01)\n",
        "print(\"Training accuracy: %f\" % accuracy(model, train_dataloader_aug))\n",
        "print(\"Testing accuracy: %f\" % accuracy(model, test_dataloader_aug))\n",
        "plt.plot(smooth(resnet_losses,50))\n"
      ],
      "metadata": {
        "colab": {
          "base_uri": "https://localhost:8080/",
          "height": 460
        },
        "id": "0eO8PV1q0QxH",
        "outputId": "7af9c65d-4df2-4cb8-d5ae-cd9d58b7ec9f"
      },
      "execution_count": null,
      "outputs": [
        {
          "output_type": "stream",
          "name": "stderr",
          "text": [
            "Using cache found in /root/.cache/torch/hub/pytorch_vision_v0.6.0\n"
          ]
        },
        {
          "output_type": "stream",
          "name": "stdout",
          "text": [
            "[1,   100] loss: 1.477\n",
            "[1,   200] loss: 1.173\n",
            "[2,   100] loss: 1.022\n"
          ]
        },
        {
          "output_type": "error",
          "ename": "KeyboardInterrupt",
          "evalue": "ignored",
          "traceback": [
            "\u001b[0;31m---------------------------------------------------------------------------\u001b[0m",
            "\u001b[0;31mKeyboardInterrupt\u001b[0m                         Traceback (most recent call last)",
            "\u001b[0;32m<ipython-input-17-cdfa401ea6d7>\u001b[0m in \u001b[0;36m<module>\u001b[0;34m()\u001b[0m\n\u001b[1;32m     22\u001b[0m \u001b[0mmodel\u001b[0m\u001b[0;34m.\u001b[0m\u001b[0mfc\u001b[0m \u001b[0;34m=\u001b[0m \u001b[0mnn\u001b[0m\u001b[0;34m.\u001b[0m\u001b[0mLinear\u001b[0m\u001b[0;34m(\u001b[0m\u001b[0;36m512\u001b[0m\u001b[0;34m,\u001b[0m \u001b[0;36m7\u001b[0m\u001b[0;34m)\u001b[0m \u001b[0;31m# Reinitializes final layer, assigns random weights\u001b[0m\u001b[0;34m\u001b[0m\u001b[0;34m\u001b[0m\u001b[0m\n\u001b[1;32m     23\u001b[0m \u001b[0;34m\u001b[0m\u001b[0m\n\u001b[0;32m---> 24\u001b[0;31m \u001b[0mresnet_losses\u001b[0m \u001b[0;34m=\u001b[0m \u001b[0mtrain\u001b[0m\u001b[0;34m(\u001b[0m\u001b[0mmodel\u001b[0m\u001b[0;34m,\u001b[0m \u001b[0mtrain_dataloader_aug\u001b[0m\u001b[0;34m,\u001b[0m \u001b[0mepochs\u001b[0m\u001b[0;34m=\u001b[0m\u001b[0;36m50\u001b[0m\u001b[0;34m,\u001b[0m \u001b[0mlr\u001b[0m\u001b[0;34m=\u001b[0m\u001b[0;36m.01\u001b[0m\u001b[0;34m)\u001b[0m\u001b[0;34m\u001b[0m\u001b[0;34m\u001b[0m\u001b[0m\n\u001b[0m\u001b[1;32m     25\u001b[0m \u001b[0mprint\u001b[0m\u001b[0;34m(\u001b[0m\u001b[0;34m\"Training accuracy: %f\"\u001b[0m \u001b[0;34m%\u001b[0m \u001b[0maccuracy\u001b[0m\u001b[0;34m(\u001b[0m\u001b[0mmodel\u001b[0m\u001b[0;34m,\u001b[0m \u001b[0mtrain_dataloader_aug\u001b[0m\u001b[0;34m)\u001b[0m\u001b[0;34m)\u001b[0m\u001b[0;34m\u001b[0m\u001b[0;34m\u001b[0m\u001b[0m\n\u001b[1;32m     26\u001b[0m \u001b[0mprint\u001b[0m\u001b[0;34m(\u001b[0m\u001b[0;34m\"Testing accuracy: %f\"\u001b[0m \u001b[0;34m%\u001b[0m \u001b[0maccuracy\u001b[0m\u001b[0;34m(\u001b[0m\u001b[0mmodel\u001b[0m\u001b[0;34m,\u001b[0m \u001b[0mtest_dataloader_aug\u001b[0m\u001b[0;34m)\u001b[0m\u001b[0;34m)\u001b[0m\u001b[0;34m\u001b[0m\u001b[0;34m\u001b[0m\u001b[0m\n",
            "\u001b[0;32m<ipython-input-14-eba412329b16>\u001b[0m in \u001b[0;36mtrain\u001b[0;34m(net, dataloader, epochs, lr, momentum, decay, verbose)\u001b[0m\n\u001b[1;32m     19\u001b[0m         \u001b[0moutputs\u001b[0m \u001b[0;34m=\u001b[0m \u001b[0mnet\u001b[0m\u001b[0;34m(\u001b[0m\u001b[0minputs\u001b[0m\u001b[0;34m)\u001b[0m\u001b[0;34m\u001b[0m\u001b[0;34m\u001b[0m\u001b[0m\n\u001b[1;32m     20\u001b[0m         \u001b[0mloss\u001b[0m \u001b[0;34m=\u001b[0m \u001b[0mcriterion\u001b[0m\u001b[0;34m(\u001b[0m\u001b[0moutputs\u001b[0m\u001b[0;34m,\u001b[0m \u001b[0mlabels\u001b[0m\u001b[0;34m)\u001b[0m\u001b[0;34m\u001b[0m\u001b[0;34m\u001b[0m\u001b[0m\n\u001b[0;32m---> 21\u001b[0;31m         \u001b[0mloss\u001b[0m\u001b[0;34m.\u001b[0m\u001b[0mbackward\u001b[0m\u001b[0;34m(\u001b[0m\u001b[0;34m)\u001b[0m  \u001b[0;31m# autograd magic, computes all the partial derivatives\u001b[0m\u001b[0;34m\u001b[0m\u001b[0;34m\u001b[0m\u001b[0m\n\u001b[0m\u001b[1;32m     22\u001b[0m         \u001b[0moptimizer\u001b[0m\u001b[0;34m.\u001b[0m\u001b[0mstep\u001b[0m\u001b[0;34m(\u001b[0m\u001b[0;34m)\u001b[0m \u001b[0;31m# takes a step in gradient direction\u001b[0m\u001b[0;34m\u001b[0m\u001b[0;34m\u001b[0m\u001b[0m\n\u001b[1;32m     23\u001b[0m \u001b[0;34m\u001b[0m\u001b[0m\n",
            "\u001b[0;32m/usr/local/lib/python3.7/dist-packages/torch/_tensor.py\u001b[0m in \u001b[0;36mbackward\u001b[0;34m(self, gradient, retain_graph, create_graph, inputs)\u001b[0m\n\u001b[1;32m    305\u001b[0m                 \u001b[0mcreate_graph\u001b[0m\u001b[0;34m=\u001b[0m\u001b[0mcreate_graph\u001b[0m\u001b[0;34m,\u001b[0m\u001b[0;34m\u001b[0m\u001b[0;34m\u001b[0m\u001b[0m\n\u001b[1;32m    306\u001b[0m                 inputs=inputs)\n\u001b[0;32m--> 307\u001b[0;31m         \u001b[0mtorch\u001b[0m\u001b[0;34m.\u001b[0m\u001b[0mautograd\u001b[0m\u001b[0;34m.\u001b[0m\u001b[0mbackward\u001b[0m\u001b[0;34m(\u001b[0m\u001b[0mself\u001b[0m\u001b[0;34m,\u001b[0m \u001b[0mgradient\u001b[0m\u001b[0;34m,\u001b[0m \u001b[0mretain_graph\u001b[0m\u001b[0;34m,\u001b[0m \u001b[0mcreate_graph\u001b[0m\u001b[0;34m,\u001b[0m \u001b[0minputs\u001b[0m\u001b[0;34m=\u001b[0m\u001b[0minputs\u001b[0m\u001b[0;34m)\u001b[0m\u001b[0;34m\u001b[0m\u001b[0;34m\u001b[0m\u001b[0m\n\u001b[0m\u001b[1;32m    308\u001b[0m \u001b[0;34m\u001b[0m\u001b[0m\n\u001b[1;32m    309\u001b[0m     \u001b[0;32mdef\u001b[0m \u001b[0mregister_hook\u001b[0m\u001b[0;34m(\u001b[0m\u001b[0mself\u001b[0m\u001b[0;34m,\u001b[0m \u001b[0mhook\u001b[0m\u001b[0;34m)\u001b[0m\u001b[0;34m:\u001b[0m\u001b[0;34m\u001b[0m\u001b[0;34m\u001b[0m\u001b[0m\n",
            "\u001b[0;32m/usr/local/lib/python3.7/dist-packages/torch/autograd/__init__.py\u001b[0m in \u001b[0;36mbackward\u001b[0;34m(tensors, grad_tensors, retain_graph, create_graph, grad_variables, inputs)\u001b[0m\n\u001b[1;32m    154\u001b[0m     Variable._execution_engine.run_backward(\n\u001b[1;32m    155\u001b[0m         \u001b[0mtensors\u001b[0m\u001b[0;34m,\u001b[0m \u001b[0mgrad_tensors_\u001b[0m\u001b[0;34m,\u001b[0m \u001b[0mretain_graph\u001b[0m\u001b[0;34m,\u001b[0m \u001b[0mcreate_graph\u001b[0m\u001b[0;34m,\u001b[0m \u001b[0minputs\u001b[0m\u001b[0;34m,\u001b[0m\u001b[0;34m\u001b[0m\u001b[0;34m\u001b[0m\u001b[0m\n\u001b[0;32m--> 156\u001b[0;31m         allow_unreachable=True, accumulate_grad=True)  # allow_unreachable flag\n\u001b[0m\u001b[1;32m    157\u001b[0m \u001b[0;34m\u001b[0m\u001b[0m\n\u001b[1;32m    158\u001b[0m \u001b[0;34m\u001b[0m\u001b[0m\n",
            "\u001b[0;31mKeyboardInterrupt\u001b[0m: "
          ]
        }
      ]
    },
    {
      "cell_type": "markdown",
      "source": [
        "Combine category of angry, disgust, fear, surprise"
      ],
      "metadata": {
        "id": "xTI44K0ZfGFK"
      }
    },
    {
      "cell_type": "code",
      "source": [
        "class facialNewDataset(Dataset):\n",
        "  def __init__(self, directory):\n",
        "    self.arr = []\n",
        "    self.directory = directory\n",
        "    self.label_dict = {\"angry\": 0, \"disgust\": 0, \"fear\": 0, \"happy\": 1, \"neutral\": 2, \"sad\": 3, \"surprise\": 0}\n",
        "    for dir in os.listdir(directory):\n",
        "      for filename in os.listdir(os.path.join(directory, dir)):\n",
        "        index = filename[:-len(\".jpg\")]\n",
        "        self.arr.append((dir, index))\n",
        "        #self.dic.add(int(index), dir)\n",
        "  \n",
        "  def __len__(self):\n",
        "    return len(self.arr)\n",
        "\n",
        "  def __getitem__(self, idx):\n",
        "    img_path = os.path.join(self.directory, self.arr[idx][0], self.arr[idx][1] + \".jpg\")\n",
        "    image = read_image(img_path)\n",
        "    image = image.type(torch.float)\n",
        "    label = self.label_dict[self.arr[idx][0]]\n",
        "    return image, torch.tensor(label)\n",
        "\n",
        "trainDataset = facialNewDataset(\"/root/images/train\")\n",
        "testDataset = facialNewDataset(\"/root/images/validation\")\n",
        "train_dataloader = DataLoader(trainDataset, batch_size=128, shuffle=True)\n",
        "test_dataloader = DataLoader(testDataset, batch_size=128, shuffle=False)\n",
        "\n",
        "class ConvBNNet2(nn.Module):\n",
        "    def __init__(self):\n",
        "        super(ConvBNNet2, self).__init__() # https://pytorch.org/docs/stable/generated/torch.nn.Conv2d.html\n",
        "        self.conv1 = nn.Conv2d(1, 16, 3, stride=2, padding=1)\n",
        "        self.bn1 = nn.BatchNorm2d(16)\n",
        "        self.conv2 = nn.Conv2d(16, 32, 3, stride=2, padding=1)\n",
        "        self.bn2 = nn.BatchNorm2d(32)\n",
        "        self.conv3 = nn.Conv2d(32, 64, 3, stride=2, padding=1)\n",
        "        self.bn3 = nn.BatchNorm2d(64)\n",
        "        #self.fc1 = nn.Linear(2304, 10)\n",
        "        self.fc1 = nn.Linear(2304, 5)\n",
        "        \n",
        "\n",
        "    def forward(self, x):\n",
        "        x = self.conv1(x)\n",
        "        x = self.bn1(x)\n",
        "        x = F.relu(x)\n",
        "        x = self.conv2(x)\n",
        "        x = self.bn2(x)\n",
        "        x = F.relu(x)\n",
        "        x = self.conv3(x)\n",
        "        x = self.bn3(x)\n",
        "        x = F.relu(x)\n",
        "        x = torch.flatten(x, 1)\n",
        "        x = self.fc1(x)\n",
        "        return x\n",
        "\n"
      ],
      "metadata": {
        "id": "Tly2TYVJG-Z8"
      },
      "execution_count": null,
      "outputs": []
    },
    {
      "cell_type": "code",
      "source": [
        "new_decay_net = ConvBNNet2()\n",
        "decay_losses =  train(new_decay_net, train_dataloader, epochs=5, lr=.01  , decay = .01)\n",
        "decay_losses += train(new_decay_net, train_dataloader, epochs=5, lr=.001 , decay = .01)\n",
        "decay_losses += train(new_decay_net, train_dataloader, epochs=5, lr=.0001, decay = .01)\n",
        "\n",
        "\n",
        "plt.plot(smooth(decay_losses, 50))\n",
        "\n",
        "print(\"Training accuracy: %f\" % accuracy(new_decay_net, train_dataloader))\n",
        "print(\"Testing  accuracy: %f\" % accuracy(new_decay_net, test_dataloader))"
      ],
      "metadata": {
        "id": "_5QG5CWkTPLr"
      },
      "execution_count": null,
      "outputs": []
    },
    {
      "cell_type": "markdown",
      "source": [
        "Combine category of disgust, fear, surprise"
      ],
      "metadata": {
        "id": "V8ZD_m4FfWp4"
      }
    },
    {
      "cell_type": "code",
      "source": [
        "class NewfacialDatasetAug(Dataset):\n",
        "  #def __init__(self, directory, transform):\n",
        "  def __init__(self, directory):\n",
        "    self.arr = []\n",
        "    self.directory = directory\n",
        "    self.label_dict = {\"angry\": 0, \"disgust\": 1, \"fear\": 1, \"happy\": 2, \"neutral\": 3, \"sad\": 4, \"surprise\": 1}\n",
        "    # self.transform = transform\n",
        "    for dir in os.listdir(directory):\n",
        "      for filename in os.listdir(os.path.join(directory, dir)):\n",
        "        index = filename[:-len(\".jpg\")]\n",
        "        self.arr.append((dir, index))\n",
        "        #self.dic.add(int(index), dir)\n",
        "  \n",
        "  def __len__(self):\n",
        "    return len(self.arr)\n",
        "\n",
        "  def __getitem__(self, idx):\n",
        "    img_path = os.path.join(self.directory, self.arr[idx][0], self.arr[idx][1] + \".jpg\")\n",
        "    image = read_image(img_path)\n",
        "    cropper = torchvision.transforms.RandomCrop(46, padding=1, padding_mode='edge');\n",
        "    image = cropper(image)\n",
        "    flipper = torchvision.transforms.RandomHorizontalFlip(p=0.5)\n",
        "    image = flipper(image)\n",
        "    image = image.type(torch.float)\n",
        "    label = self.label_dict.get(self.arr[idx][0])\n",
        "    return image, torch.tensor(label)\n",
        "\n",
        "trainDatasetAug = NewfacialDatasetAug(\"/root/images/train\")\n",
        "testDatasetAug = NewfacialDatasetAug(\"/root/images/validation\")\n",
        "\n",
        "train_dataloader_aug = DataLoader(trainDatasetAug, batch_size=128, shuffle=True, num_workers=2)\n",
        "test_dataloader_aug = DataLoader(testDatasetAug, batch_size=128, shuffle=False, num_workers=2)\n",
        "\n",
        "new_decay_net = ConvBNNet2()\n",
        "decay_losses =  train(new_decay_net, train_dataloader_aug, epochs=100, lr=.01  , decay = .01)\n",
        "# decay_losses += train(new_decay_net, train_dataloader_aug, epochs=30, lr=.001 , decay = .01)\n",
        "# decay_losses += train(new_decay_net, train_dataloader_aug, epochs=50, lr=.0001, decay = .01)\n",
        "\n",
        "\n",
        "plt.plot(smooth(decay_losses, 50))\n",
        "\n",
        "print(\"Training accuracy: %f\" % accuracy(new_decay_net, train_dataloader_aug))\n",
        "print(\"Testing  accuracy: %f\" % accuracy(new_decay_net, test_dataloader_aug))"
      ],
      "metadata": {
        "colab": {
          "base_uri": "https://localhost:8080/",
          "height": 1000
        },
        "id": "aVUxlOx5QwCk",
        "outputId": "80cbed1f-714c-4dd9-d4b5-5a429c74fdbf"
      },
      "execution_count": null,
      "outputs": [
        {
          "output_type": "stream",
          "name": "stdout",
          "text": [
            "[1,   100] loss: 1.552\n",
            "[1,   200] loss: 1.422\n",
            "[2,   100] loss: 1.336\n",
            "[2,   200] loss: 1.312\n",
            "[3,   100] loss: 1.280\n",
            "[3,   200] loss: 1.262\n",
            "[4,   100] loss: 1.237\n",
            "[4,   200] loss: 1.245\n",
            "[5,   100] loss: 1.210\n",
            "[5,   200] loss: 1.212\n",
            "[6,   100] loss: 1.209\n",
            "[6,   200] loss: 1.203\n",
            "[7,   100] loss: 1.204\n",
            "[7,   200] loss: 1.194\n",
            "[8,   100] loss: 1.175\n",
            "[8,   200] loss: 1.186\n",
            "[9,   100] loss: 1.189\n",
            "[9,   200] loss: 1.170\n",
            "[10,   100] loss: 1.169\n",
            "[10,   200] loss: 1.172\n",
            "[11,   100] loss: 1.176\n",
            "[11,   200] loss: 1.164\n",
            "[12,   100] loss: 1.157\n",
            "[12,   200] loss: 1.170\n",
            "[13,   100] loss: 1.166\n",
            "[13,   200] loss: 1.157\n",
            "[14,   100] loss: 1.147\n",
            "[14,   200] loss: 1.161\n",
            "[15,   100] loss: 1.151\n",
            "[15,   200] loss: 1.149\n",
            "[16,   100] loss: 1.145\n",
            "[16,   200] loss: 1.145\n",
            "[17,   100] loss: 1.144\n",
            "[17,   200] loss: 1.158\n",
            "[18,   100] loss: 1.151\n",
            "[18,   200] loss: 1.142\n",
            "[19,   100] loss: 1.141\n",
            "[19,   200] loss: 1.143\n",
            "[20,   100] loss: 1.150\n",
            "[20,   200] loss: 1.140\n",
            "[1,   100] loss: 1.091\n",
            "[1,   200] loss: 1.095\n",
            "[2,   100] loss: 1.077\n",
            "[2,   200] loss: 1.071\n",
            "[3,   100] loss: 1.065\n",
            "[3,   200] loss: 1.062\n",
            "[4,   100] loss: 1.060\n",
            "[4,   200] loss: 1.070\n",
            "[5,   100] loss: 1.067\n",
            "[5,   200] loss: 1.054\n",
            "[6,   100] loss: 1.056\n",
            "[6,   200] loss: 1.050\n",
            "[7,   100] loss: 1.050\n",
            "[7,   200] loss: 1.053\n",
            "[8,   100] loss: 1.050\n",
            "[8,   200] loss: 1.051\n",
            "[9,   100] loss: 1.044\n",
            "[9,   200] loss: 1.055\n",
            "[10,   100] loss: 1.048\n",
            "[10,   200] loss: 1.042\n",
            "[11,   100] loss: 1.038\n",
            "[11,   200] loss: 1.045\n",
            "[12,   100] loss: 1.047\n",
            "[12,   200] loss: 1.039\n",
            "[13,   100] loss: 1.046\n",
            "[13,   200] loss: 1.031\n",
            "[14,   100] loss: 1.037\n",
            "[14,   200] loss: 1.040\n",
            "[15,   100] loss: 1.040\n",
            "[15,   200] loss: 1.032\n",
            "[16,   100] loss: 1.044\n",
            "[16,   200] loss: 1.037\n",
            "[17,   100] loss: 1.042\n",
            "[17,   200] loss: 1.031\n",
            "[18,   100] loss: 1.033\n",
            "[18,   200] loss: 1.050\n",
            "[19,   100] loss: 1.047\n",
            "[19,   200] loss: 1.035\n",
            "[20,   100] loss: 1.034\n",
            "[20,   200] loss: 1.037\n",
            "[21,   100] loss: 1.034\n",
            "[21,   200] loss: 1.044\n",
            "[22,   100] loss: 1.038\n",
            "[22,   200] loss: 1.030\n",
            "[23,   100] loss: 1.035\n",
            "[23,   200] loss: 1.036\n",
            "[24,   100] loss: 1.027\n",
            "[24,   200] loss: 1.039\n",
            "[25,   100] loss: 1.032\n",
            "[25,   200] loss: 1.032\n",
            "[26,   100] loss: 1.025\n",
            "[26,   200] loss: 1.039\n",
            "[27,   100] loss: 1.030\n",
            "[27,   200] loss: 1.034\n",
            "[28,   100] loss: 1.037\n",
            "[28,   200] loss: 1.034\n",
            "[29,   100] loss: 1.031\n",
            "[29,   200] loss: 1.027\n",
            "[30,   100] loss: 1.025\n",
            "[30,   200] loss: 1.034\n",
            "[1,   100] loss: 1.018\n",
            "[1,   200] loss: 1.012\n",
            "[2,   100] loss: 1.003\n",
            "[2,   200] loss: 1.012\n",
            "[3,   100] loss: 1.007\n",
            "[3,   200] loss: 1.002\n",
            "[4,   100] loss: 1.006\n",
            "[4,   200] loss: 1.012\n",
            "[5,   100] loss: 1.006\n",
            "[5,   200] loss: 1.004\n",
            "[6,   100] loss: 0.999\n",
            "[6,   200] loss: 1.019\n",
            "[7,   100] loss: 1.005\n",
            "[7,   200] loss: 1.005\n",
            "[8,   100] loss: 1.001\n",
            "[8,   200] loss: 1.000\n",
            "[9,   100] loss: 1.003\n",
            "[9,   200] loss: 1.009\n",
            "[10,   100] loss: 0.999\n",
            "[10,   200] loss: 1.006\n",
            "[11,   100] loss: 1.003\n",
            "[11,   200] loss: 1.000\n",
            "[12,   100] loss: 0.999\n",
            "[12,   200] loss: 1.001\n",
            "[13,   100] loss: 1.001\n",
            "[13,   200] loss: 1.006\n",
            "[14,   100] loss: 1.003\n",
            "[14,   200] loss: 1.004\n",
            "[15,   100] loss: 1.000\n",
            "[15,   200] loss: 1.000\n",
            "[16,   100] loss: 1.005\n",
            "[16,   200] loss: 1.001\n",
            "[17,   100] loss: 0.997\n",
            "[17,   200] loss: 0.997\n",
            "[18,   100] loss: 1.015\n",
            "[18,   200] loss: 0.986\n",
            "[19,   100] loss: 1.002\n",
            "[19,   200] loss: 0.986\n",
            "[20,   100] loss: 0.999\n",
            "[20,   200] loss: 0.997\n",
            "[21,   100] loss: 0.996\n",
            "[21,   200] loss: 0.993\n",
            "[22,   100] loss: 0.993\n",
            "[22,   200] loss: 1.006\n",
            "[23,   100] loss: 1.003\n",
            "[23,   200] loss: 0.995\n",
            "[24,   100] loss: 0.994\n",
            "[24,   200] loss: 1.005\n",
            "[25,   100] loss: 0.992\n",
            "[25,   200] loss: 1.002\n",
            "[26,   100] loss: 1.003\n",
            "[26,   200] loss: 0.997\n",
            "[27,   100] loss: 0.991\n",
            "[27,   200] loss: 1.002\n",
            "[28,   100] loss: 1.004\n",
            "[28,   200] loss: 0.994\n",
            "[29,   100] loss: 0.984\n",
            "[29,   200] loss: 0.996\n",
            "[30,   100] loss: 0.994\n",
            "[30,   200] loss: 0.994\n",
            "[31,   100] loss: 0.993\n",
            "[31,   200] loss: 0.998\n",
            "[32,   100] loss: 0.998\n",
            "[32,   200] loss: 0.998\n",
            "[33,   100] loss: 1.005\n",
            "[33,   200] loss: 0.985\n",
            "[34,   100] loss: 0.991\n",
            "[34,   200] loss: 0.997\n",
            "[35,   100] loss: 0.995\n",
            "[35,   200] loss: 0.997\n",
            "[36,   100] loss: 0.996\n",
            "[36,   200] loss: 0.999\n",
            "[37,   100] loss: 0.995\n",
            "[37,   200] loss: 0.989\n",
            "[38,   100] loss: 0.992\n",
            "[38,   200] loss: 0.996\n",
            "[39,   100] loss: 1.001\n",
            "[39,   200] loss: 0.996\n",
            "[40,   100] loss: 0.990\n",
            "[40,   200] loss: 0.997\n",
            "[41,   100] loss: 0.985\n",
            "[41,   200] loss: 1.003\n",
            "[42,   100] loss: 0.984\n",
            "[42,   200] loss: 1.002\n",
            "[43,   100] loss: 0.991\n",
            "[43,   200] loss: 0.994\n",
            "[44,   100] loss: 0.994\n",
            "[44,   200] loss: 0.990\n",
            "[45,   100] loss: 0.983\n",
            "[45,   200] loss: 0.998\n",
            "[46,   100] loss: 0.993\n",
            "[46,   200] loss: 0.995\n",
            "[47,   100] loss: 0.991\n",
            "[47,   200] loss: 0.996\n",
            "[48,   100] loss: 0.984\n",
            "[48,   200] loss: 1.002\n",
            "[49,   100] loss: 0.986\n",
            "[49,   200] loss: 1.003\n",
            "[50,   100] loss: 0.993\n",
            "[50,   200] loss: 0.989\n",
            "Training accuracy: 0.615732\n",
            "Testing  accuracy: 0.540759\n"
          ]
        },
        {
          "output_type": "display_data",
          "data": {
            "image/png": "[encoded data removed]",
            "text/plain": [
              "<Figure size 432x288 with 1 Axes>"
            ]
          },
          "metadata": {
            "needs_background": "light"
          }
        }
      ]
    },
    {
      "cell_type": "code",
      "source": [
        "import torchvision.transforms as T\n",
        "\n",
        "try_loader = DataLoader(testDataset, batch_size=4, shuffle=False)\n",
        "\n",
        "n = 0\n",
        "with torch.no_grad():\n",
        "      for batch in try_loader:\n",
        "          images, labels = batch[0].to(device), batch[1].to(device)\n",
        "          outputs = net(images)\n",
        "          _, predicted = torch.max(outputs.data, 1)\n",
        "          total += labels.size(0)\n",
        "          correct += (predicted == labels).sum().item()\n",
        "          n = n-1\n",
        "          if n == 0:\n",
        "              break\n",
        "\n",
        "image = images[0]\n",
        "image = transforms.ToPILImage()(image)\n",
        "print(f\"true label: {labels[0]}\")\n",
        "print(f\"actual label: {predicted[0]}\")\n",
        "image.show()\n"
      ],
      "metadata": {
        "id": "C2e315dWcaje"
      },
      "execution_count": null,
      "outputs": []
    }
  ]
}