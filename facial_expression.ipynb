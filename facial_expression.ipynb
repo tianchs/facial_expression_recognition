{
  "nbformat": 4,
  "nbformat_minor": 0,
  "metadata": {
    "colab": {
      "name": "facial expression jason",
      "provenance": [],
      "collapsed_sections": []
    },
    "kernelspec": {
      "name": "python3",
      "display_name": "Python 3"
    },
    "language_info": {
      "name": "python"
    },
    "accelerator": "GPU"
  },
  "cells": [
    {
      "cell_type": "markdown",
      "source": [
        "upload kaggle.json"
      ],
      "metadata": {
        "id": "AxknrE93n9Kt"
      }
    },
    {
      "cell_type": "code",
      "source": [
        "from google.colab import files\n",
        "files.upload()"
      ],
      "metadata": {
        "colab": {
          "resources": {
            "http://localhost:8080/nbextensions/google.colab/files.js": {
              "data": "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",
              "ok": true,
              "headers": [
                [
                  "content-type",
                  "application/javascript"
                ]
              ],
              "status": 200,
              "status_text": ""
            }
          },
          "base_uri": "https://localhost:8080/",
          "height": 91
        },
        "id": "wqiWNZHLPzqF",
        "outputId": "56b88948-babc-4da0-8aa7-887a672d6fc6"
      },
      "execution_count": null,
      "outputs": [
        {
          "output_type": "display_data",
          "data": {
            "text/plain": [
              "<IPython.core.display.HTML object>"
            ],
            "text/html": [
              "\n",
              "     <input type=\"file\" id=\"files-9e3c642e-441a-40dc-9220-28542f5cbf33\" name=\"files[]\" multiple disabled\n",
              "        style=\"border:none\" />\n",
              "     <output id=\"result-9e3c642e-441a-40dc-9220-28542f5cbf33\">\n",
              "      Upload widget is only available when the cell has been executed in the\n",
              "      current browser session. Please rerun this cell to enable.\n",
              "      </output>\n",
              "      <script src=\"/nbextensions/google.colab/files.js\"></script> "
            ]
          },
          "metadata": {}
        },
        {
          "output_type": "stream",
          "name": "stdout",
          "text": [
            "Saving kaggle.json to kaggle.json\n"
          ]
        },
        {
          "output_type": "execute_result",
          "data": {
            "text/plain": [
              "{'kaggle.json': b'{\"username\":\"zwang217\",\"key\":\"60e47be33299cd2bef698e63bb64b790\"}'}"
            ]
          },
          "metadata": {},
          "execution_count": 2
        }
      ]
    },
    {
      "cell_type": "code",
      "source": [
        "!pip install -q kaggle\n",
        "!mkdir -p ~/.kaggle\n",
        "!cp kaggle.json ~/.kaggle/\n",
        "!ls ~/.kaggle\n",
        "!chmod 600 /root/.kaggle/kaggle.json \n",
        "!kaggle datasets download -d jonathanoheix/face-expression-recognition-dataset\n",
        "!unzip -q /content/face-expression-recognition-dataset.zip\n",
        "!mv /content/images/ ~"
      ],
      "metadata": {
        "colab": {
          "base_uri": "https://localhost:8080/"
        },
        "id": "cCmJiwDnP-LP",
        "outputId": "433bea73-afe3-4f71-ddd4-34946d566837"
      },
      "execution_count": null,
      "outputs": [
        {
          "output_type": "stream",
          "name": "stdout",
          "text": [
            "kaggle.json\n",
            "Downloading face-expression-recognition-dataset.zip to /content\n",
            " 95% 115M/121M [00:01<00:00, 69.3MB/s]\n",
            "100% 121M/121M [00:01<00:00, 71.7MB/s]\n"
          ]
        }
      ]
    },
    {
      "cell_type": "markdown",
      "source": [
        "Get data"
      ],
      "metadata": {
        "id": "e-Z5PaEEoD8U"
      }
    },
    {
      "cell_type": "code",
      "execution_count": null,
      "metadata": {
        "id": "7WAZKfpbI5yT"
      },
      "outputs": [],
      "source": [
        "import torch\n",
        "import torchvision\n",
        "from torch.utils.data import Dataset\n",
        "from torchvision.io import read_image\n",
        "import torchvision.transforms as transforms\n",
        "import os\n",
        "\n",
        "\n",
        "class facialDataset(Dataset):\n",
        "  def __init__(self, directory):\n",
        "    self.arr = []\n",
        "    self.directory = directory\n",
        "    self.label_dict = {\"angry\": 0, \"disgust\": 1, \"fear\": 2, \"happy\": 3, \"neutral\": 4, \"sad\": 5, \"surprise\": 6}\n",
        "    for dir in os.listdir(directory):\n",
        "      for filename in os.listdir(os.path.join(directory, dir)):\n",
        "        index = filename[:-len(\".jpg\")]\n",
        "        self.arr.append((dir, index))\n",
        "  \n",
        "  def __len__(self):\n",
        "    return len(self.arr)\n",
        "\n",
        "  def __getitem__(self, idx):\n",
        "    img_path = os.path.join(self.directory, self.arr[idx][0], self.arr[idx][1] + \".jpg\")\n",
        "    image = read_image(img_path)\n",
        "    image = image.type(torch.float)\n",
        "    label = self.label_dict.get(self.arr[idx][0])\n",
        "    return image, torch.tensor(label)\n",
        "\n",
        "class facialDatasetAug(Dataset):\n",
        "  def __init__(self, directory):\n",
        "    self.arr = []\n",
        "    self.directory = directory\n",
        "    self.label_dict = {\"angry\": 0, \"disgust\": 1, \"fear\": 2, \"happy\": 3, \"neutral\": 4, \"sad\": 5, \"surprise\": 6}\n",
        "    for dir in os.listdir(directory):\n",
        "      for filename in os.listdir(os.path.join(directory, dir)):\n",
        "        index = filename[:-len(\".jpg\")]\n",
        "        self.arr.append((dir, index))\n",
        "  \n",
        "  def __len__(self):\n",
        "    return len(self.arr)\n",
        "\n",
        "  def __getitem__(self, idx):\n",
        "    img_path = os.path.join(self.directory, self.arr[idx][0], self.arr[idx][1] + \".jpg\")\n",
        "    image = read_image(img_path)\n",
        "    cropper = torchvision.transforms.RandomCrop(46, padding=1, padding_mode='edge');\n",
        "    image = cropper(image)\n",
        "    flipper = torchvision.transforms.RandomHorizontalFlip(p=0.5)\n",
        "    image = flipper(image)\n",
        "    image = image.type(torch.float)\n",
        "    label = self.label_dict.get(self.arr[idx][0])\n",
        "    return image, torch.tensor(label)\n",
        "\n"
      ]
    },
    {
      "cell_type": "code",
      "source": [
        "from torch.utils.data import DataLoader\n",
        "\n",
        "trainDataset = facialDataset(\"/root/images/train\")\n",
        "testDataset = facialDataset(\"/root/images/validation\")\n",
        "\n",
        "train_dataloader = DataLoader(trainDataset, batch_size=128, shuffle=True)\n",
        "test_dataloader = DataLoader(testDataset, batch_size=128, shuffle=False)"
      ],
      "metadata": {
        "id": "8QI0zdDFTXxL"
      },
      "execution_count": null,
      "outputs": []
    },
    {
      "cell_type": "code",
      "source": [
        "print(trainDataset[0][0])\n",
        "print(trainDataset[0][1])"
      ],
      "metadata": {
        "colab": {
          "base_uri": "https://localhost:8080/"
        },
        "id": "jYFeGKifpFnW",
        "outputId": "328f73bd-13dc-4746-a8c0-16e5543e6b23"
      },
      "execution_count": null,
      "outputs": [
        {
          "output_type": "stream",
          "name": "stdout",
          "text": [
            "tensor([[[255., 252., 248.,  ..., 253., 255., 254.],\n",
            "         [254., 249., 243.,  ..., 248., 254., 254.],\n",
            "         [251., 245., 236.,  ..., 241., 250., 255.],\n",
            "         ...,\n",
            "         [250., 253., 255.,  ..., 253., 251., 239.],\n",
            "         [247., 252., 255.,  ..., 254., 247., 236.],\n",
            "         [243., 250., 255.,  ..., 253., 244., 233.]]])\n",
            "tensor(5)\n"
          ]
        }
      ]
    },
    {
      "cell_type": "markdown",
      "source": [
        "Check if device is GPU"
      ],
      "metadata": {
        "id": "Hu6ewtyJv7nf"
      }
    },
    {
      "cell_type": "code",
      "source": [
        "device = torch.device(\"cuda:0\" if torch.cuda.is_available() else \"cpu\")\n",
        "print(device)"
      ],
      "metadata": {
        "id": "_zQ9J7wOv6y-",
        "colab": {
          "base_uri": "https://localhost:8080/"
        },
        "outputId": "01622f6d-3f85-4cff-b29d-c556c6e71500"
      },
      "execution_count": null,
      "outputs": [
        {
          "output_type": "stream",
          "name": "stdout",
          "text": [
            "cuda:0\n"
          ]
        }
      ]
    },
    {
      "cell_type": "markdown",
      "source": [
        "Add simple network with three layers and conv network."
      ],
      "metadata": {
        "id": "qijdCUTtn2xj"
      }
    },
    {
      "cell_type": "code",
      "source": [
        "import torch.nn as nn\n",
        "import torch.nn.functional as F\n",
        "\n",
        "class SimpleNet(nn.Module):\n",
        "    def __init__(self, inputs=2304, hidden1=1024, hidden2 = 512, outputs=10):\n",
        "        super(SimpleNet, self).__init__()\n",
        "        self.fc1 = nn.Linear(inputs, hidden1)\n",
        "        self.fc2 = nn.Linear(hidden1, hidden2)\n",
        "        self.fc3 = nn.Linear(hidden2, outputs)\n",
        "\n",
        "    def forward(self, x):\n",
        "        x = torch.flatten(x, 1)\n",
        "        x = self.fc1(x)\n",
        "        x = torch.tanh(x) \n",
        "        x = self.fc2(x)\n",
        "        x = torch.tanh(x) \n",
        "        x = self.fc3(x)\n",
        "        return x\n",
        "\n",
        "\n",
        "class ConvNet(nn.Module):\n",
        "    def __init__(self):\n",
        "        super(ConvNet, self).__init__()\n",
        "        self.conv1 = nn.Conv2d(1, 16, 3, stride=2, padding=1)\n",
        "        self.conv2 = nn.Conv2d(16, 32, 3, stride=2, padding=1)\n",
        "        self.conv3 = nn.Conv2d(32, 64, 3, stride=2, padding=1)\n",
        "        self.fc1 = nn.Linear(2304, 10)\n",
        "\n",
        "    def forward(self, x):\n",
        "        x = self.conv1(x)\n",
        "        x = F.relu(x)\n",
        "        x = self.conv2(x)\n",
        "        x = F.relu(x)\n",
        "        x = self.conv3(x)\n",
        "        x = F.relu(x)\n",
        "        x = torch.flatten(x, 1)\n",
        "        x = self.fc1(x) \n",
        "        return x\n"
      ],
      "metadata": {
        "id": "Wla51-Cont9E"
      },
      "execution_count": null,
      "outputs": []
    },
    {
      "cell_type": "markdown",
      "source": [
        "Trainning code"
      ],
      "metadata": {
        "id": "xXz5SMUpWnB3"
      }
    },
    {
      "cell_type": "code",
      "source": [
        "import numpy\n",
        "import torch.optim as optim\n",
        "\n",
        "def train(net, dataloader, epochs=1, lr=0.01, momentum=0.9, decay=0.0, verbose=1):\n",
        "  net.to(device)\n",
        "  losses = []\n",
        "  criterion = nn.CrossEntropyLoss() # Combination softmax + negative log likelihood\n",
        "  optimizer = optim.SGD(net.parameters(), lr=lr, momentum=momentum, weight_decay=decay)\n",
        "  for epoch in range(epochs):\n",
        "    sum_loss = 0.0\n",
        "    for i, batch in enumerate(dataloader, 0):\n",
        "        # get the inputs; data is a list of [inputs, labels]\n",
        "        inputs, labels = batch[0].to(device), batch[1].to(device)\n",
        "\n",
        "        # zero the parameter gradients\n",
        "        optimizer.zero_grad()\n",
        "\n",
        "        # forward + backward + optimize \n",
        "        outputs = net(inputs)\n",
        "        loss = criterion(outputs, labels)\n",
        "        loss.backward()  # autograd magic, computes all the partial derivatives\n",
        "        optimizer.step() # takes a step in gradient direction\n",
        "\n",
        "        # print statistics\n",
        "        losses.append(loss.item())\n",
        "        sum_loss += loss.item()\n",
        "        if i % 100 == 99:    # print every 100 mini-batches\n",
        "            if verbose:\n",
        "              print('[%d, %5d] loss: %.3f' %\n",
        "                  (epoch + 1, i + 1, sum_loss / 100))\n",
        "            sum_loss = 0.0\n",
        "  return losses\n",
        "\n",
        "def accuracy(net, dataloader):\n",
        "  correct = 0\n",
        "  total = 0\n",
        "  with torch.no_grad():\n",
        "      for batch in dataloader:\n",
        "          images, labels = batch[0].to(device), batch[1].to(device)\n",
        "          outputs = net(images)\n",
        "          _, predicted = torch.max(outputs.data, 1)\n",
        "          total += labels.size(0)\n",
        "          correct += (predicted == labels).sum().item()\n",
        "  return correct/total\n",
        "\n",
        "def smooth(x, size):\n",
        "  return numpy.convolve(x, numpy.ones(size)/size, mode='valid')"
      ],
      "metadata": {
        "id": "LFLUCqCBULWz"
      },
      "execution_count": null,
      "outputs": []
    },
    {
      "cell_type": "markdown",
      "source": [
        "Train the simple network with three layers."
      ],
      "metadata": {
        "id": "IgTw7DuuUcfI"
      }
    },
    {
      "cell_type": "code",
      "source": [
        "import matplotlib.pyplot as plt\n",
        "\n",
        "net = SimpleNet()\n",
        "\n",
        "losses = train(net, train_dataloader, epochs=15)\n",
        "plt.plot(smooth(losses,50))\n",
        "\n",
        "print(\"Training accuracy: %f\" % accuracy(net, train_dataloader))\n",
        "print(\"Testing  accuracy: %f\" % accuracy(net, test_dataloader))\n",
        "# # lr                training_accuracy   testing_accuracy\n",
        "# # 0.00001           0.251622            0.254316\n",
        "# # 0.0001            0.284896            0.277102\n",
        "# # 0.001(best)       0.303147            0.303425\n",
        "# # 0.01(default)     0.249540            0.258704\n",
        "# # 0.1               0.172860            0.172092\n",
        "# # \n",
        "# # with lr=0.001 (no effect)\n",
        "# # decay             training_accuracy   testing_accuracy\n",
        "# # 0.0(default)      0.280906            0.289414\n",
        "# # 1                 0.248569            0.258279\n",
        "# # 0.1               0.279900            0.283895\n",
        "# # 0.01              0.302731            0.305265\n",
        "# # 0.001             0.289546            0.290829\n",
        "# # 0.0001            0.305194            0.308378\n",
        "# # 0.00001           0.290552            0.294933\n",
        "# # \n",
        "# # with lr=0.001 and decay=0.0001 (no effect)\n",
        "# # momentum          training_accuracy   testing_accuracy\n",
        "# # 0.0(default)      0.317720            0.312058\n",
        "# # 1                 0.173034            0.172375\n",
        "# # 0.1               0.291454            0.297905\n",
        "# # 0.01              0.288123            0.286584\n",
        "# # 0.001             0.307866            0.312765\n",
        "# # 0.0001            0.297214            0.300028"
      ],
      "metadata": {
        "id": "7Rm_zZi-UeR_",
        "colab": {
          "base_uri": "https://localhost:8080/",
          "height": 425
        },
        "outputId": "5701d695-b0ef-408b-fd58-55b1307016c0"
      },
      "execution_count": null,
      "outputs": [
        {
          "output_type": "stream",
          "name": "stdout",
          "text": [
            "[1,   100] loss: 1.869\n",
            "[1,   200] loss: 1.840\n"
          ]
        },
        {
          "output_type": "error",
          "ename": "KeyboardInterrupt",
          "evalue": "ignored",
          "traceback": [
            "\u001b[0;31m---------------------------------------------------------------------------\u001b[0m",
            "\u001b[0;31mKeyboardInterrupt\u001b[0m                         Traceback (most recent call last)",
            "\u001b[0;32m<ipython-input-11-9a8c105b2e96>\u001b[0m in \u001b[0;36m<module>\u001b[0;34m()\u001b[0m\n\u001b[1;32m      3\u001b[0m \u001b[0mnet\u001b[0m \u001b[0;34m=\u001b[0m \u001b[0mSimpleNet\u001b[0m\u001b[0;34m(\u001b[0m\u001b[0;34m)\u001b[0m\u001b[0;34m\u001b[0m\u001b[0;34m\u001b[0m\u001b[0m\n\u001b[1;32m      4\u001b[0m \u001b[0;34m\u001b[0m\u001b[0m\n\u001b[0;32m----> 5\u001b[0;31m \u001b[0mlosses\u001b[0m \u001b[0;34m=\u001b[0m \u001b[0mtrain\u001b[0m\u001b[0;34m(\u001b[0m\u001b[0mnet\u001b[0m\u001b[0;34m,\u001b[0m \u001b[0mtrain_dataloader\u001b[0m\u001b[0;34m,\u001b[0m \u001b[0mepochs\u001b[0m\u001b[0;34m=\u001b[0m\u001b[0;36m15\u001b[0m\u001b[0;34m)\u001b[0m\u001b[0;34m\u001b[0m\u001b[0;34m\u001b[0m\u001b[0m\n\u001b[0m\u001b[1;32m      6\u001b[0m \u001b[0mplt\u001b[0m\u001b[0;34m.\u001b[0m\u001b[0mplot\u001b[0m\u001b[0;34m(\u001b[0m\u001b[0msmooth\u001b[0m\u001b[0;34m(\u001b[0m\u001b[0mlosses\u001b[0m\u001b[0;34m,\u001b[0m\u001b[0;36m50\u001b[0m\u001b[0;34m)\u001b[0m\u001b[0;34m)\u001b[0m\u001b[0;34m\u001b[0m\u001b[0;34m\u001b[0m\u001b[0m\n\u001b[1;32m      7\u001b[0m \u001b[0;34m\u001b[0m\u001b[0m\n",
            "\u001b[0;32m<ipython-input-9-eba412329b16>\u001b[0m in \u001b[0;36mtrain\u001b[0;34m(net, dataloader, epochs, lr, momentum, decay, verbose)\u001b[0m\n\u001b[1;32m      9\u001b[0m   \u001b[0;32mfor\u001b[0m \u001b[0mepoch\u001b[0m \u001b[0;32min\u001b[0m \u001b[0mrange\u001b[0m\u001b[0;34m(\u001b[0m\u001b[0mepochs\u001b[0m\u001b[0;34m)\u001b[0m\u001b[0;34m:\u001b[0m\u001b[0;34m\u001b[0m\u001b[0;34m\u001b[0m\u001b[0m\n\u001b[1;32m     10\u001b[0m     \u001b[0msum_loss\u001b[0m \u001b[0;34m=\u001b[0m \u001b[0;36m0.0\u001b[0m\u001b[0;34m\u001b[0m\u001b[0;34m\u001b[0m\u001b[0m\n\u001b[0;32m---> 11\u001b[0;31m     \u001b[0;32mfor\u001b[0m \u001b[0mi\u001b[0m\u001b[0;34m,\u001b[0m \u001b[0mbatch\u001b[0m \u001b[0;32min\u001b[0m \u001b[0menumerate\u001b[0m\u001b[0;34m(\u001b[0m\u001b[0mdataloader\u001b[0m\u001b[0;34m,\u001b[0m \u001b[0;36m0\u001b[0m\u001b[0;34m)\u001b[0m\u001b[0;34m:\u001b[0m\u001b[0;34m\u001b[0m\u001b[0;34m\u001b[0m\u001b[0m\n\u001b[0m\u001b[1;32m     12\u001b[0m         \u001b[0;31m# get the inputs; data is a list of [inputs, labels]\u001b[0m\u001b[0;34m\u001b[0m\u001b[0;34m\u001b[0m\u001b[0;34m\u001b[0m\u001b[0m\n\u001b[1;32m     13\u001b[0m         \u001b[0minputs\u001b[0m\u001b[0;34m,\u001b[0m \u001b[0mlabels\u001b[0m \u001b[0;34m=\u001b[0m \u001b[0mbatch\u001b[0m\u001b[0;34m[\u001b[0m\u001b[0;36m0\u001b[0m\u001b[0;34m]\u001b[0m\u001b[0;34m.\u001b[0m\u001b[0mto\u001b[0m\u001b[0;34m(\u001b[0m\u001b[0mdevice\u001b[0m\u001b[0;34m)\u001b[0m\u001b[0;34m,\u001b[0m \u001b[0mbatch\u001b[0m\u001b[0;34m[\u001b[0m\u001b[0;36m1\u001b[0m\u001b[0;34m]\u001b[0m\u001b[0;34m.\u001b[0m\u001b[0mto\u001b[0m\u001b[0;34m(\u001b[0m\u001b[0mdevice\u001b[0m\u001b[0;34m)\u001b[0m\u001b[0;34m\u001b[0m\u001b[0;34m\u001b[0m\u001b[0m\n",
            "\u001b[0;32m/usr/local/lib/python3.7/dist-packages/torch/utils/data/dataloader.py\u001b[0m in \u001b[0;36m__next__\u001b[0;34m(self)\u001b[0m\n\u001b[1;32m    519\u001b[0m             \u001b[0;32mif\u001b[0m \u001b[0mself\u001b[0m\u001b[0;34m.\u001b[0m\u001b[0m_sampler_iter\u001b[0m \u001b[0;32mis\u001b[0m \u001b[0;32mNone\u001b[0m\u001b[0;34m:\u001b[0m\u001b[0;34m\u001b[0m\u001b[0;34m\u001b[0m\u001b[0m\n\u001b[1;32m    520\u001b[0m                 \u001b[0mself\u001b[0m\u001b[0;34m.\u001b[0m\u001b[0m_reset\u001b[0m\u001b[0;34m(\u001b[0m\u001b[0;34m)\u001b[0m\u001b[0;34m\u001b[0m\u001b[0;34m\u001b[0m\u001b[0m\n\u001b[0;32m--> 521\u001b[0;31m             \u001b[0mdata\u001b[0m \u001b[0;34m=\u001b[0m \u001b[0mself\u001b[0m\u001b[0;34m.\u001b[0m\u001b[0m_next_data\u001b[0m\u001b[0;34m(\u001b[0m\u001b[0;34m)\u001b[0m\u001b[0;34m\u001b[0m\u001b[0;34m\u001b[0m\u001b[0m\n\u001b[0m\u001b[1;32m    522\u001b[0m             \u001b[0mself\u001b[0m\u001b[0;34m.\u001b[0m\u001b[0m_num_yielded\u001b[0m \u001b[0;34m+=\u001b[0m \u001b[0;36m1\u001b[0m\u001b[0;34m\u001b[0m\u001b[0;34m\u001b[0m\u001b[0m\n\u001b[1;32m    523\u001b[0m             \u001b[0;32mif\u001b[0m \u001b[0mself\u001b[0m\u001b[0;34m.\u001b[0m\u001b[0m_dataset_kind\u001b[0m \u001b[0;34m==\u001b[0m \u001b[0m_DatasetKind\u001b[0m\u001b[0;34m.\u001b[0m\u001b[0mIterable\u001b[0m \u001b[0;32mand\u001b[0m\u001b[0;31m \u001b[0m\u001b[0;31m\\\u001b[0m\u001b[0;34m\u001b[0m\u001b[0;34m\u001b[0m\u001b[0m\n",
            "\u001b[0;32m/usr/local/lib/python3.7/dist-packages/torch/utils/data/dataloader.py\u001b[0m in \u001b[0;36m_next_data\u001b[0;34m(self)\u001b[0m\n\u001b[1;32m    559\u001b[0m     \u001b[0;32mdef\u001b[0m \u001b[0m_next_data\u001b[0m\u001b[0;34m(\u001b[0m\u001b[0mself\u001b[0m\u001b[0;34m)\u001b[0m\u001b[0;34m:\u001b[0m\u001b[0;34m\u001b[0m\u001b[0;34m\u001b[0m\u001b[0m\n\u001b[1;32m    560\u001b[0m         \u001b[0mindex\u001b[0m \u001b[0;34m=\u001b[0m \u001b[0mself\u001b[0m\u001b[0;34m.\u001b[0m\u001b[0m_next_index\u001b[0m\u001b[0;34m(\u001b[0m\u001b[0;34m)\u001b[0m  \u001b[0;31m# may raise StopIteration\u001b[0m\u001b[0;34m\u001b[0m\u001b[0;34m\u001b[0m\u001b[0m\n\u001b[0;32m--> 561\u001b[0;31m         \u001b[0mdata\u001b[0m \u001b[0;34m=\u001b[0m \u001b[0mself\u001b[0m\u001b[0;34m.\u001b[0m\u001b[0m_dataset_fetcher\u001b[0m\u001b[0;34m.\u001b[0m\u001b[0mfetch\u001b[0m\u001b[0;34m(\u001b[0m\u001b[0mindex\u001b[0m\u001b[0;34m)\u001b[0m  \u001b[0;31m# may raise StopIteration\u001b[0m\u001b[0;34m\u001b[0m\u001b[0;34m\u001b[0m\u001b[0m\n\u001b[0m\u001b[1;32m    562\u001b[0m         \u001b[0;32mif\u001b[0m \u001b[0mself\u001b[0m\u001b[0;34m.\u001b[0m\u001b[0m_pin_memory\u001b[0m\u001b[0;34m:\u001b[0m\u001b[0;34m\u001b[0m\u001b[0;34m\u001b[0m\u001b[0m\n\u001b[1;32m    563\u001b[0m             \u001b[0mdata\u001b[0m \u001b[0;34m=\u001b[0m \u001b[0m_utils\u001b[0m\u001b[0;34m.\u001b[0m\u001b[0mpin_memory\u001b[0m\u001b[0;34m.\u001b[0m\u001b[0mpin_memory\u001b[0m\u001b[0;34m(\u001b[0m\u001b[0mdata\u001b[0m\u001b[0;34m)\u001b[0m\u001b[0;34m\u001b[0m\u001b[0;34m\u001b[0m\u001b[0m\n",
            "\u001b[0;32m/usr/local/lib/python3.7/dist-packages/torch/utils/data/_utils/fetch.py\u001b[0m in \u001b[0;36mfetch\u001b[0;34m(self, possibly_batched_index)\u001b[0m\n\u001b[1;32m     47\u001b[0m     \u001b[0;32mdef\u001b[0m \u001b[0mfetch\u001b[0m\u001b[0;34m(\u001b[0m\u001b[0mself\u001b[0m\u001b[0;34m,\u001b[0m \u001b[0mpossibly_batched_index\u001b[0m\u001b[0;34m)\u001b[0m\u001b[0;34m:\u001b[0m\u001b[0;34m\u001b[0m\u001b[0;34m\u001b[0m\u001b[0m\n\u001b[1;32m     48\u001b[0m         \u001b[0;32mif\u001b[0m \u001b[0mself\u001b[0m\u001b[0;34m.\u001b[0m\u001b[0mauto_collation\u001b[0m\u001b[0;34m:\u001b[0m\u001b[0;34m\u001b[0m\u001b[0;34m\u001b[0m\u001b[0m\n\u001b[0;32m---> 49\u001b[0;31m             \u001b[0mdata\u001b[0m \u001b[0;34m=\u001b[0m \u001b[0;34m[\u001b[0m\u001b[0mself\u001b[0m\u001b[0;34m.\u001b[0m\u001b[0mdataset\u001b[0m\u001b[0;34m[\u001b[0m\u001b[0midx\u001b[0m\u001b[0;34m]\u001b[0m \u001b[0;32mfor\u001b[0m \u001b[0midx\u001b[0m \u001b[0;32min\u001b[0m \u001b[0mpossibly_batched_index\u001b[0m\u001b[0;34m]\u001b[0m\u001b[0;34m\u001b[0m\u001b[0;34m\u001b[0m\u001b[0m\n\u001b[0m\u001b[1;32m     50\u001b[0m         \u001b[0;32melse\u001b[0m\u001b[0;34m:\u001b[0m\u001b[0;34m\u001b[0m\u001b[0;34m\u001b[0m\u001b[0m\n\u001b[1;32m     51\u001b[0m             \u001b[0mdata\u001b[0m \u001b[0;34m=\u001b[0m \u001b[0mself\u001b[0m\u001b[0;34m.\u001b[0m\u001b[0mdataset\u001b[0m\u001b[0;34m[\u001b[0m\u001b[0mpossibly_batched_index\u001b[0m\u001b[0;34m]\u001b[0m\u001b[0;34m\u001b[0m\u001b[0;34m\u001b[0m\u001b[0m\n",
            "\u001b[0;32m/usr/local/lib/python3.7/dist-packages/torch/utils/data/_utils/fetch.py\u001b[0m in \u001b[0;36m<listcomp>\u001b[0;34m(.0)\u001b[0m\n\u001b[1;32m     47\u001b[0m     \u001b[0;32mdef\u001b[0m \u001b[0mfetch\u001b[0m\u001b[0;34m(\u001b[0m\u001b[0mself\u001b[0m\u001b[0;34m,\u001b[0m \u001b[0mpossibly_batched_index\u001b[0m\u001b[0;34m)\u001b[0m\u001b[0;34m:\u001b[0m\u001b[0;34m\u001b[0m\u001b[0;34m\u001b[0m\u001b[0m\n\u001b[1;32m     48\u001b[0m         \u001b[0;32mif\u001b[0m \u001b[0mself\u001b[0m\u001b[0;34m.\u001b[0m\u001b[0mauto_collation\u001b[0m\u001b[0;34m:\u001b[0m\u001b[0;34m\u001b[0m\u001b[0;34m\u001b[0m\u001b[0m\n\u001b[0;32m---> 49\u001b[0;31m             \u001b[0mdata\u001b[0m \u001b[0;34m=\u001b[0m \u001b[0;34m[\u001b[0m\u001b[0mself\u001b[0m\u001b[0;34m.\u001b[0m\u001b[0mdataset\u001b[0m\u001b[0;34m[\u001b[0m\u001b[0midx\u001b[0m\u001b[0;34m]\u001b[0m \u001b[0;32mfor\u001b[0m \u001b[0midx\u001b[0m \u001b[0;32min\u001b[0m \u001b[0mpossibly_batched_index\u001b[0m\u001b[0;34m]\u001b[0m\u001b[0;34m\u001b[0m\u001b[0;34m\u001b[0m\u001b[0m\n\u001b[0m\u001b[1;32m     50\u001b[0m         \u001b[0;32melse\u001b[0m\u001b[0;34m:\u001b[0m\u001b[0;34m\u001b[0m\u001b[0;34m\u001b[0m\u001b[0m\n\u001b[1;32m     51\u001b[0m             \u001b[0mdata\u001b[0m \u001b[0;34m=\u001b[0m \u001b[0mself\u001b[0m\u001b[0;34m.\u001b[0m\u001b[0mdataset\u001b[0m\u001b[0;34m[\u001b[0m\u001b[0mpossibly_batched_index\u001b[0m\u001b[0;34m]\u001b[0m\u001b[0;34m\u001b[0m\u001b[0;34m\u001b[0m\u001b[0m\n",
            "\u001b[0;32m<ipython-input-4-d2211c420b42>\u001b[0m in \u001b[0;36m__getitem__\u001b[0;34m(self, idx)\u001b[0m\n\u001b[1;32m     22\u001b[0m   \u001b[0;32mdef\u001b[0m \u001b[0m__getitem__\u001b[0m\u001b[0;34m(\u001b[0m\u001b[0mself\u001b[0m\u001b[0;34m,\u001b[0m \u001b[0midx\u001b[0m\u001b[0;34m)\u001b[0m\u001b[0;34m:\u001b[0m\u001b[0;34m\u001b[0m\u001b[0;34m\u001b[0m\u001b[0m\n\u001b[1;32m     23\u001b[0m     \u001b[0mimg_path\u001b[0m \u001b[0;34m=\u001b[0m \u001b[0mos\u001b[0m\u001b[0;34m.\u001b[0m\u001b[0mpath\u001b[0m\u001b[0;34m.\u001b[0m\u001b[0mjoin\u001b[0m\u001b[0;34m(\u001b[0m\u001b[0mself\u001b[0m\u001b[0;34m.\u001b[0m\u001b[0mdirectory\u001b[0m\u001b[0;34m,\u001b[0m \u001b[0mself\u001b[0m\u001b[0;34m.\u001b[0m\u001b[0marr\u001b[0m\u001b[0;34m[\u001b[0m\u001b[0midx\u001b[0m\u001b[0;34m]\u001b[0m\u001b[0;34m[\u001b[0m\u001b[0;36m0\u001b[0m\u001b[0;34m]\u001b[0m\u001b[0;34m,\u001b[0m \u001b[0mself\u001b[0m\u001b[0;34m.\u001b[0m\u001b[0marr\u001b[0m\u001b[0;34m[\u001b[0m\u001b[0midx\u001b[0m\u001b[0;34m]\u001b[0m\u001b[0;34m[\u001b[0m\u001b[0;36m1\u001b[0m\u001b[0;34m]\u001b[0m \u001b[0;34m+\u001b[0m \u001b[0;34m\".jpg\"\u001b[0m\u001b[0;34m)\u001b[0m\u001b[0;34m\u001b[0m\u001b[0;34m\u001b[0m\u001b[0m\n\u001b[0;32m---> 24\u001b[0;31m     \u001b[0mimage\u001b[0m \u001b[0;34m=\u001b[0m \u001b[0mread_image\u001b[0m\u001b[0;34m(\u001b[0m\u001b[0mimg_path\u001b[0m\u001b[0;34m)\u001b[0m\u001b[0;34m\u001b[0m\u001b[0;34m\u001b[0m\u001b[0m\n\u001b[0m\u001b[1;32m     25\u001b[0m     \u001b[0mimage\u001b[0m \u001b[0;34m=\u001b[0m \u001b[0mimage\u001b[0m\u001b[0;34m.\u001b[0m\u001b[0mtype\u001b[0m\u001b[0;34m(\u001b[0m\u001b[0mtorch\u001b[0m\u001b[0;34m.\u001b[0m\u001b[0mfloat\u001b[0m\u001b[0;34m)\u001b[0m\u001b[0;34m\u001b[0m\u001b[0;34m\u001b[0m\u001b[0m\n\u001b[1;32m     26\u001b[0m     \u001b[0mlabel\u001b[0m \u001b[0;34m=\u001b[0m \u001b[0mself\u001b[0m\u001b[0;34m.\u001b[0m\u001b[0mlabel_dict\u001b[0m\u001b[0;34m.\u001b[0m\u001b[0mget\u001b[0m\u001b[0;34m(\u001b[0m\u001b[0mself\u001b[0m\u001b[0;34m.\u001b[0m\u001b[0marr\u001b[0m\u001b[0;34m[\u001b[0m\u001b[0midx\u001b[0m\u001b[0;34m]\u001b[0m\u001b[0;34m[\u001b[0m\u001b[0;36m0\u001b[0m\u001b[0;34m]\u001b[0m\u001b[0;34m)\u001b[0m\u001b[0;34m\u001b[0m\u001b[0;34m\u001b[0m\u001b[0m\n",
            "\u001b[0;32m/usr/local/lib/python3.7/dist-packages/torchvision/io/image.py\u001b[0m in \u001b[0;36mread_image\u001b[0;34m(path, mode)\u001b[0m\n\u001b[1;32m    221\u001b[0m     \"\"\"\n\u001b[1;32m    222\u001b[0m     \u001b[0mdata\u001b[0m \u001b[0;34m=\u001b[0m \u001b[0mread_file\u001b[0m\u001b[0;34m(\u001b[0m\u001b[0mpath\u001b[0m\u001b[0;34m)\u001b[0m\u001b[0;34m\u001b[0m\u001b[0;34m\u001b[0m\u001b[0m\n\u001b[0;32m--> 223\u001b[0;31m     \u001b[0;32mreturn\u001b[0m \u001b[0mdecode_image\u001b[0m\u001b[0;34m(\u001b[0m\u001b[0mdata\u001b[0m\u001b[0;34m,\u001b[0m \u001b[0mmode\u001b[0m\u001b[0;34m)\u001b[0m\u001b[0;34m\u001b[0m\u001b[0;34m\u001b[0m\u001b[0m\n\u001b[0m",
            "\u001b[0;32m/usr/local/lib/python3.7/dist-packages/torchvision/io/image.py\u001b[0m in \u001b[0;36mdecode_image\u001b[0;34m(input, mode)\u001b[0m\n\u001b[1;32m    200\u001b[0m         \u001b[0moutput\u001b[0m \u001b[0;34m(\u001b[0m\u001b[0mTensor\u001b[0m\u001b[0;34m[\u001b[0m\u001b[0mimage_channels\u001b[0m\u001b[0;34m,\u001b[0m \u001b[0mimage_height\u001b[0m\u001b[0;34m,\u001b[0m \u001b[0mimage_width\u001b[0m\u001b[0;34m]\u001b[0m\u001b[0;34m)\u001b[0m\u001b[0;34m\u001b[0m\u001b[0;34m\u001b[0m\u001b[0m\n\u001b[1;32m    201\u001b[0m     \"\"\"\n\u001b[0;32m--> 202\u001b[0;31m     \u001b[0moutput\u001b[0m \u001b[0;34m=\u001b[0m \u001b[0mtorch\u001b[0m\u001b[0;34m.\u001b[0m\u001b[0mops\u001b[0m\u001b[0;34m.\u001b[0m\u001b[0mimage\u001b[0m\u001b[0;34m.\u001b[0m\u001b[0mdecode_image\u001b[0m\u001b[0;34m(\u001b[0m\u001b[0minput\u001b[0m\u001b[0;34m,\u001b[0m \u001b[0mmode\u001b[0m\u001b[0;34m.\u001b[0m\u001b[0mvalue\u001b[0m\u001b[0;34m)\u001b[0m\u001b[0;34m\u001b[0m\u001b[0;34m\u001b[0m\u001b[0m\n\u001b[0m\u001b[1;32m    203\u001b[0m     \u001b[0;32mreturn\u001b[0m \u001b[0moutput\u001b[0m\u001b[0;34m\u001b[0m\u001b[0;34m\u001b[0m\u001b[0m\n\u001b[1;32m    204\u001b[0m \u001b[0;34m\u001b[0m\u001b[0m\n",
            "\u001b[0;31mKeyboardInterrupt\u001b[0m: "
          ]
        }
      ]
    },
    {
      "cell_type": "markdown",
      "source": [
        "Train the cov network"
      ],
      "metadata": {
        "id": "_JZhGxrqUorU"
      }
    },
    {
      "cell_type": "code",
      "source": [
        "import matplotlib.pyplot as plt\n",
        "\n",
        "net = ConvNet()\n",
        "\n",
        "losses = train(net, train_dataloader, epochs=15, lr=0.0001)\n",
        "plt.plot(smooth(losses,50))\n",
        "\n",
        "print(\"Training accuracy: %f\" % accuracy(net, train_dataloader))\n",
        "print(\"Testing  accuracy: %f\" % accuracy(net, test_dataloader))\n",
        "# lr                training_accuracy   testing_accuracy\n",
        "# 0.00001           0.354151            0.344750\n",
        "# 0.0001(best)      0.437736            0.411265\n",
        "# 0.001             0.417196            0.395839\n",
        "# 0.01(default)     0.248569            0.258279\n",
        "# 0.1               0.248569            0.258279\n",
        "# \n",
        "# with lr=0.0001 (no effect)\n",
        "# decay             training_accuracy   testing_accuracy\n",
        "# 0                 0.449290            0.420606\n",
        "# 0.001             0.445613            0.421738\n",
        "# 0.01              0.453211            0.416926\n",
        "# 0.1               0.431803            0.416360\n",
        "\n"
      ],
      "metadata": {
        "colab": {
          "base_uri": "https://localhost:8080/",
          "height": 820
        },
        "id": "HxovqOq8Umj6",
        "outputId": "1ff773b7-a981-48e2-ad98-d9dc33496a5f"
      },
      "execution_count": null,
      "outputs": [
        {
          "output_type": "stream",
          "name": "stdout",
          "text": [
            "[1,   100] loss: 1.973\n",
            "[1,   200] loss: 1.790\n",
            "[2,   100] loss: 1.727\n",
            "[2,   200] loss: 1.705\n",
            "[3,   100] loss: 1.673\n",
            "[3,   200] loss: 1.661\n",
            "[4,   100] loss: 1.640\n",
            "[4,   200] loss: 1.639\n",
            "[5,   100] loss: 1.616\n",
            "[5,   200] loss: 1.614\n",
            "[6,   100] loss: 1.595\n",
            "[6,   200] loss: 1.594\n",
            "[7,   100] loss: 1.583\n",
            "[7,   200] loss: 1.573\n",
            "[8,   100] loss: 1.570\n",
            "[8,   200] loss: 1.554\n",
            "[9,   100] loss: 1.552\n",
            "[9,   200] loss: 1.551\n",
            "[10,   100] loss: 1.537\n",
            "[10,   200] loss: 1.537\n",
            "[11,   100] loss: 1.511\n",
            "[11,   200] loss: 1.526\n",
            "[12,   100] loss: 1.516\n",
            "[12,   200] loss: 1.512\n",
            "[13,   100] loss: 1.495\n",
            "[13,   200] loss: 1.505\n",
            "[14,   100] loss: 1.487\n",
            "[14,   200] loss: 1.487\n",
            "[15,   100] loss: 1.479\n",
            "[15,   200] loss: 1.469\n",
            "Training accuracy: 0.439645\n",
            "Testing  accuracy: 0.403765\n"
          ]
        },
        {
          "output_type": "display_data",
          "data": {
            "text/plain": [
              "<Figure size 432x288 with 1 Axes>"
            ],
            "image/png": "[encoded data removed]"
          },
          "metadata": {
            "needs_background": "light"
          }
        }
      ]
    },
    {
      "cell_type": "markdown",
      "source": [
        "Simulated Annealing (slowly lower the learning rate over time)"
      ],
      "metadata": {
        "id": "qtp4adoejiuz"
      }
    },
    {
      "cell_type": "code",
      "source": [
        "import matplotlib.pyplot as plt\n",
        "\n",
        "# (no effect)\n",
        "anneal_net = ConvNet()\n",
        "\n",
        "anneal_losses =  train(anneal_net, train_dataloader, epochs=5, lr=.0001)\n",
        "anneal_losses += train(anneal_net, train_dataloader, epochs=5, lr=.00001)\n",
        "anneal_losses += train(anneal_net, train_dataloader, epochs=5, lr=.000001)\n",
        "\n",
        "plt.plot(smooth(anneal_losses, 50))\n",
        "\n",
        "print(\"Training accuracy: %f\" % accuracy(anneal_net, train_dataloader))\n",
        "print(\"Testing  accuracy: %f\" % accuracy(anneal_net, test_dataloader))"
      ],
      "metadata": {
        "colab": {
          "base_uri": "https://localhost:8080/",
          "height": 820
        },
        "id": "dAHdu2cOjgDv",
        "outputId": "f20a3ab3-f4ae-49ae-9575-e0429fb4baf3"
      },
      "execution_count": null,
      "outputs": [
        {
          "output_type": "stream",
          "name": "stdout",
          "text": [
            "[1,   100] loss: 2.248\n",
            "[1,   200] loss: 1.787\n",
            "[2,   100] loss: 1.740\n",
            "[2,   200] loss: 1.715\n",
            "[3,   100] loss: 1.693\n",
            "[3,   200] loss: 1.687\n",
            "[4,   100] loss: 1.658\n",
            "[4,   200] loss: 1.653\n",
            "[5,   100] loss: 1.634\n",
            "[5,   200] loss: 1.628\n",
            "[1,   100] loss: 1.613\n",
            "[1,   200] loss: 1.599\n",
            "[2,   100] loss: 1.602\n",
            "[2,   200] loss: 1.595\n",
            "[3,   100] loss: 1.593\n",
            "[3,   200] loss: 1.601\n",
            "[4,   100] loss: 1.596\n",
            "[4,   200] loss: 1.596\n",
            "[5,   100] loss: 1.599\n",
            "[5,   200] loss: 1.589\n",
            "[1,   100] loss: 1.595\n",
            "[1,   200] loss: 1.593\n",
            "[2,   100] loss: 1.586\n",
            "[2,   200] loss: 1.598\n",
            "[3,   100] loss: 1.586\n",
            "[3,   200] loss: 1.596\n",
            "[4,   100] loss: 1.586\n",
            "[4,   200] loss: 1.599\n",
            "[5,   100] loss: 1.594\n",
            "[5,   200] loss: 1.591\n",
            "Training accuracy: 0.393047\n",
            "Testing  accuracy: 0.386782\n"
          ]
        },
        {
          "output_type": "display_data",
          "data": {
            "text/plain": [
              "<Figure size 432x288 with 1 Axes>"
            ],
            "image/png": "[encoded data removed]"
          },
          "metadata": {
            "needs_background": "light"
          }
        }
      ]
    },
    {
      "cell_type": "markdown",
      "source": [
        "A new convolutional network with batch normalization"
      ],
      "metadata": {
        "id": "D0D5si7IlHKS"
      }
    },
    {
      "cell_type": "code",
      "source": [
        "class ConvBNNet(nn.Module):\n",
        "    def __init__(self):\n",
        "        super(ConvBNNet, self).__init__() # https://pytorch.org/docs/stable/generated/torch.nn.Conv2d.html\n",
        "        #self.conv1 = nn.Conv2d(1, 16, 3, stride=2, padding=1)\n",
        "        #self.bn1 = nn.BatchNorm2d(16)\n",
        "        #self.conv2 = nn.Conv2d(16, 32, 3, stride=2, padding=1)\n",
        "        #self.bn2 = nn.BatchNorm2d(32)\n",
        "        #elf.conv3 = nn.Conv2d(32, 64, 3, stride=2, padding=1)\n",
        "        #self.bn3 = nn.BatchNorm2d(64)\n",
        "        #self.fc1 = nn.Linear(2304, 10)\n",
        "        self.conv1 = nn.Conv2d(1, 16, 5, stride=2, padding=2)\n",
        "        self.bn1 = nn.BatchNorm2d(16)\n",
        "        self.conv2 = nn.Conv2d(16, 32, 5, stride=2, padding=2)\n",
        "        self.bn2 = nn.BatchNorm2d(32)\n",
        "        self.conv3 = nn.Conv2d(32, 64, 5, stride=2, padding=2)\n",
        "        self.bn3 = nn.BatchNorm2d(64)\n",
        "        self.fc1 = nn.Linear(2304, 10)\n",
        "\n",
        "    def forward(self, x):\n",
        "        x = self.conv1(x)\n",
        "        x = self.bn1(x)\n",
        "        x = F.relu(x)\n",
        "        x = self.conv2(x)\n",
        "        x = self.bn2(x)\n",
        "        x = F.relu(x)\n",
        "        x = self.conv3(x)\n",
        "        x = self.bn3(x)\n",
        "        x = F.relu(x)\n",
        "        x = torch.flatten(x, 1)\n",
        "        x = self.fc1(x)\n",
        "        return x\n",
        "\n"
      ],
      "metadata": {
        "id": "xeFPSiqMlKuk"
      },
      "execution_count": null,
      "outputs": []
    },
    {
      "cell_type": "markdown",
      "source": [
        "Train the ConvBNNet"
      ],
      "metadata": {
        "id": "VCkdzh54_ZuM"
      }
    },
    {
      "cell_type": "code",
      "source": [
        "norm_net = ConvBNNet()\n",
        "\n",
        "norm_losses = train(norm_net, train_dataloader, epochs=15, lr=.01)\n",
        "\n",
        "plt.plot(smooth(norm_losses, 50))\n",
        "\n",
        "print(\"Training accuracy: %f\" % accuracy(norm_net, train_dataloader))\n",
        "print(\"Testing  accuracy: %f\" % accuracy(norm_net, test_dataloader))\n",
        "# lr                training_accuracy   testing_accuracy \n",
        "# 0.001             0.614760            0.436598\n",
        "# 0.01(default)     0.796954            0.452165\n",
        "# 0.1               0.492245            0.425984"
      ],
      "metadata": {
        "colab": {
          "base_uri": "https://localhost:8080/",
          "height": 820
        },
        "id": "D72yFfk1lRLc",
        "outputId": "68360ab6-be0b-4e3f-d96c-9c84e0715dbc"
      },
      "execution_count": null,
      "outputs": [
        {
          "output_type": "stream",
          "name": "stdout",
          "text": [
            "[1,   100] loss: 1.731\n",
            "[1,   200] loss: 1.599\n",
            "[2,   100] loss: 1.423\n",
            "[2,   200] loss: 1.419\n",
            "[3,   100] loss: 1.275\n",
            "[3,   200] loss: 1.295\n",
            "[4,   100] loss: 1.167\n",
            "[4,   200] loss: 1.184\n",
            "[5,   100] loss: 1.060\n",
            "[5,   200] loss: 1.100\n",
            "[6,   100] loss: 0.964\n",
            "[6,   200] loss: 1.007\n",
            "[7,   100] loss: 0.884\n",
            "[7,   200] loss: 0.944\n",
            "[8,   100] loss: 0.804\n",
            "[8,   200] loss: 0.861\n",
            "[9,   100] loss: 0.725\n",
            "[9,   200] loss: 0.784\n",
            "[10,   100] loss: 0.643\n",
            "[10,   200] loss: 0.725\n",
            "[11,   100] loss: 0.588\n",
            "[11,   200] loss: 0.649\n",
            "[12,   100] loss: 0.503\n",
            "[12,   200] loss: 0.574\n",
            "[13,   100] loss: 0.459\n",
            "[13,   200] loss: 0.524\n",
            "[14,   100] loss: 0.394\n",
            "[14,   200] loss: 0.462\n",
            "[15,   100] loss: 0.351\n",
            "[15,   200] loss: 0.418\n",
            "Training accuracy: 0.908539\n",
            "Testing  accuracy: 0.467167\n"
          ]
        },
        {
          "output_type": "display_data",
          "data": {
            "text/plain": [
              "<Figure size 432x288 with 1 Axes>"
            ],
            "image/png": "[encoded data removed]"
          },
          "metadata": {
            "needs_background": "light"
          }
        }
      ]
    },
    {
      "cell_type": "markdown",
      "source": [
        "Train the ConvBNNet with simulated annealing"
      ],
      "metadata": {
        "id": "WuSyieKl_h1f"
      }
    },
    {
      "cell_type": "code",
      "source": [
        "anneal2_net = ConvBNNet()\n",
        "\n",
        "anneal2_losses =  train(anneal2_net, train_dataloader, epochs=5, lr=.01)\n",
        "anneal2_losses += train(anneal2_net, train_dataloader, epochs=5, lr=.001)\n",
        "anneal2_losses += train(anneal2_net, train_dataloader, epochs=5, lr=.0001)\n",
        "\n",
        "\n",
        "plt.plot(smooth(anneal2_losses, 50))\n",
        "\n",
        "print(\"Training accuracy: %f\" % accuracy(anneal2_net, train_dataloader))\n",
        "print(\"Testing  accuracy: %f\" % accuracy(anneal2_net, test_dataloader))"
      ],
      "metadata": {
        "colab": {
          "base_uri": "https://localhost:8080/",
          "height": 820
        },
        "id": "VqM1wES5pjDZ",
        "outputId": "260cb4d7-2652-488e-a904-7fd8727342e9"
      },
      "execution_count": null,
      "outputs": [
        {
          "output_type": "stream",
          "name": "stdout",
          "text": [
            "[1,   100] loss: 1.734\n",
            "[1,   200] loss: 1.599\n",
            "[2,   100] loss: 1.458\n",
            "[2,   200] loss: 1.411\n",
            "[3,   100] loss: 1.302\n",
            "[3,   200] loss: 1.300\n",
            "[4,   100] loss: 1.190\n",
            "[4,   200] loss: 1.195\n",
            "[5,   100] loss: 1.079\n",
            "[5,   200] loss: 1.118\n",
            "[1,   100] loss: 0.912\n",
            "[1,   200] loss: 0.882\n",
            "[2,   100] loss: 0.837\n",
            "[2,   200] loss: 0.854\n",
            "[3,   100] loss: 0.811\n",
            "[3,   200] loss: 0.821\n",
            "[4,   100] loss: 0.790\n",
            "[4,   200] loss: 0.796\n",
            "[5,   100] loss: 0.758\n",
            "[5,   200] loss: 0.781\n",
            "[1,   100] loss: 0.741\n",
            "[1,   200] loss: 0.729\n",
            "[2,   100] loss: 0.733\n",
            "[2,   200] loss: 0.727\n",
            "[3,   100] loss: 0.729\n",
            "[3,   200] loss: 0.730\n",
            "[4,   100] loss: 0.724\n",
            "[4,   200] loss: 0.725\n",
            "[5,   100] loss: 0.724\n",
            "[5,   200] loss: 0.719\n",
            "Training accuracy: 0.768953\n",
            "Testing  accuracy: 0.504246\n"
          ]
        },
        {
          "output_type": "display_data",
          "data": {
            "text/plain": [
              "<Figure size 432x288 with 1 Axes>"
            ],
            "image/png": "[encoded data removed]"
          },
          "metadata": {
            "needs_background": "light"
          }
        }
      ]
    },
    {
      "cell_type": "markdown",
      "source": [
        "Try with weight decay"
      ],
      "metadata": {
        "id": "ls_4Oij4rDux"
      }
    },
    {
      "cell_type": "code",
      "source": [
        "decay_net = ConvBNNet()\n",
        "\n",
        "decay_losses =  train(decay_net, train_dataloader, epochs=5, lr=.01  , decay = .01)\n",
        "decay_losses += train(decay_net, train_dataloader, epochs=5, lr=.001 , decay = .01)\n",
        "decay_losses += train(decay_net, train_dataloader, epochs=5, lr=.0001, decay = .01)\n",
        "\n",
        "\n",
        "plt.plot(smooth(decay_losses, 50))\n",
        "\n",
        "print(\"Training accuracy: %f\" % accuracy(decay_net, train_dataloader))\n",
        "print(\"Testing  accuracy: %f\" % accuracy(decay_net, test_dataloader))"
      ],
      "metadata": {
        "colab": {
          "base_uri": "https://localhost:8080/",
          "height": 820
        },
        "id": "FGAnUkLfrFGI",
        "outputId": "8de6abb2-e758-4cd5-f84a-3e7edd02965f"
      },
      "execution_count": null,
      "outputs": [
        {
          "output_type": "stream",
          "name": "stdout",
          "text": [
            "[1,   100] loss: 1.726\n",
            "[1,   200] loss: 1.557\n",
            "[2,   100] loss: 1.446\n",
            "[2,   200] loss: 1.389\n",
            "[3,   100] loss: 1.304\n",
            "[3,   200] loss: 1.311\n",
            "[4,   100] loss: 1.234\n",
            "[4,   200] loss: 1.260\n",
            "[5,   100] loss: 1.179\n",
            "[5,   200] loss: 1.212\n",
            "[1,   100] loss: 1.078\n",
            "[1,   200] loss: 1.051\n",
            "[2,   100] loss: 1.004\n",
            "[2,   200] loss: 1.017\n",
            "[3,   100] loss: 0.986\n",
            "[3,   200] loss: 0.983\n",
            "[4,   100] loss: 0.952\n",
            "[4,   200] loss: 0.958\n",
            "[5,   100] loss: 0.926\n",
            "[5,   200] loss: 0.951\n",
            "[1,   100] loss: 0.896\n",
            "[1,   200] loss: 0.896\n",
            "[2,   100] loss: 0.886\n",
            "[2,   200] loss: 0.890\n",
            "[3,   100] loss: 0.881\n",
            "[3,   200] loss: 0.890\n",
            "[4,   100] loss: 0.882\n",
            "[4,   200] loss: 0.880\n",
            "[5,   100] loss: 0.879\n",
            "[5,   200] loss: 0.881\n",
            "Training accuracy: 0.709968\n",
            "Testing  accuracy: 0.508491\n"
          ]
        },
        {
          "output_type": "display_data",
          "data": {
            "text/plain": [
              "<Figure size 432x288 with 1 Axes>"
            ],
            "image/png": "[encoded data removed]"
          },
          "metadata": {
            "needs_background": "light"
          }
        }
      ]
    },
    {
      "cell_type": "markdown",
      "source": [
        "Try data augmentation"
      ],
      "metadata": {
        "id": "JGtiCZ6I3ClH"
      }
    },
    {
      "cell_type": "code",
      "source": [
        "from torch.utils.data import DataLoader\n",
        "\n",
        "trainDatasetAug = facialDatasetAug(\"/root/images/train\")\n",
        "testDatasetAug = facialDatasetAug(\"/root/images/validation\")\n",
        "\n",
        "train_dataloader_aug = DataLoader(trainDatasetAug, batch_size=128, shuffle=True, num_workers=2)\n",
        "test_dataloader_aug = DataLoader(testDatasetAug, batch_size=128, shuffle=False, num_workers=2)\n",
        "\n",
        "data_net = ConvBNNet()\n",
        "\n",
        "data_losses =  train(data_net, train_dataloader_aug, epochs=5, lr=.01  , decay = .01)\n",
        "data_losses += train(data_net, train_dataloader_aug, epochs=5, lr=.001 , decay = .01)\n",
        "data_losses += train(data_net, train_dataloader_aug, epochs=5, lr=.0001, decay = .01)\n",
        "\n"
      ],
      "metadata": {
        "colab": {
          "base_uri": "https://localhost:8080/"
        },
        "id": "pruWfKmUwBXH",
        "outputId": "52a4b290-e919-46ba-8302-fea09934f8b3"
      },
      "execution_count": null,
      "outputs": [
        {
          "output_type": "stream",
          "name": "stdout",
          "text": [
            "[1,   100] loss: 1.771\n",
            "[1,   200] loss: 1.625\n",
            "[2,   100] loss: 1.546\n",
            "[2,   200] loss: 1.491\n",
            "[3,   100] loss: 1.442\n",
            "[3,   200] loss: 1.431\n",
            "[4,   100] loss: 1.376\n",
            "[4,   200] loss: 1.366\n",
            "[5,   100] loss: 1.340\n",
            "[5,   200] loss: 1.336\n",
            "[1,   100] loss: 1.276\n",
            "[1,   200] loss: 1.258\n",
            "[2,   100] loss: 1.241\n",
            "[2,   200] loss: 1.232\n",
            "[3,   100] loss: 1.226\n",
            "[3,   200] loss: 1.223\n",
            "[4,   100] loss: 1.210\n",
            "[4,   200] loss: 1.224\n",
            "[5,   100] loss: 1.214\n",
            "[5,   200] loss: 1.198\n",
            "[1,   100] loss: 1.193\n",
            "[1,   200] loss: 1.181\n",
            "[2,   100] loss: 1.184\n",
            "[2,   200] loss: 1.189\n",
            "[3,   100] loss: 1.194\n",
            "[3,   200] loss: 1.180\n",
            "[4,   100] loss: 1.190\n",
            "[4,   200] loss: 1.186\n",
            "[5,   100] loss: 1.176\n",
            "[5,   200] loss: 1.182\n"
          ]
        }
      ]
    },
    {
      "cell_type": "code",
      "source": [
        "import matplotlib.pyplot as plt\n",
        "plt.plot(smooth(data_losses, 50))\n",
        "\n",
        "print(\"Training accuracy: %f\" % accuracy(data_net, train_dataloader_aug))\n",
        "print(\"Testing  accuracy: %f\" % accuracy(data_net, test_dataloader_aug))"
      ],
      "metadata": {
        "colab": {
          "base_uri": "https://localhost:8080/",
          "height": 300
        },
        "id": "wHlMaY8c5fZk",
        "outputId": "5c6019ac-8970-4535-c5b5-6073017b7a06"
      },
      "execution_count": null,
      "outputs": [
        {
          "output_type": "stream",
          "name": "stdout",
          "text": [
            "Training accuracy: 0.563790\n",
            "Testing  accuracy: 0.492499\n"
          ]
        },
        {
          "output_type": "display_data",
          "data": {
            "text/plain": [
              "<Figure size 432x288 with 1 Axes>"
            ],
            "image/png": "[encoded data removed]"
          },
          "metadata": {
            "needs_background": "light"
          }
        }
      ]
    },
    {
      "cell_type": "markdown",
      "source": [
        "Combine category of angry, disgust, fear, surprise"
      ],
      "metadata": {
        "id": "O-_WoYNd3i8h"
      }
    },
    {
      "cell_type": "code",
      "source": [
        "class facialNewDataset(Dataset):\n",
        "  def __init__(self, directory):\n",
        "    self.arr = []\n",
        "    self.directory = directory\n",
        "    self.label_dict = {\"angry\": 0, \"disgust\": 0, \"fear\": 0, \"happy\": 1, \"neutral\": 2, \"sad\": 3, \"surprise\": 0}\n",
        "    for dir in os.listdir(directory):\n",
        "      for filename in os.listdir(os.path.join(directory, dir)):\n",
        "        index = filename[:-len(\".jpg\")]\n",
        "        self.arr.append((dir, index))\n",
        "        #self.dic.add(int(index), dir)\n",
        "  \n",
        "  def __len__(self):\n",
        "    return len(self.arr)\n",
        "\n",
        "  def __getitem__(self, idx):\n",
        "    img_path = os.path.join(self.directory, self.arr[idx][0], self.arr[idx][1] + \".jpg\")\n",
        "    image = read_image(img_path)\n",
        "    image = image.type(torch.float)\n",
        "    label = self.label_dict[self.arr[idx][0]]\n",
        "    return image, torch.tensor(label)\n",
        "\n",
        "trainDataset = facialNewDataset(\"/root/images/train\")\n",
        "testDataset = facialNewDataset(\"/root/images/validation\")\n",
        "train_dataloader = DataLoader(trainDataset, batch_size=128, shuffle=True)\n",
        "test_dataloader = DataLoader(testDataset, batch_size=128, shuffle=False)\n",
        "\n",
        "class ConvBNNet2(nn.Module):\n",
        "    def __init__(self):\n",
        "        super(ConvBNNet2, self).__init__() # https://pytorch.org/docs/stable/generated/torch.nn.Conv2d.html\n",
        "        self.conv1 = nn.Conv2d(1, 16, 3, stride=2, padding=1)\n",
        "        self.bn1 = nn.BatchNorm2d(16)\n",
        "        self.conv2 = nn.Conv2d(16, 32, 3, stride=2, padding=1)\n",
        "        self.bn2 = nn.BatchNorm2d(32)\n",
        "        self.conv3 = nn.Conv2d(32, 64, 3, stride=2, padding=1)\n",
        "        self.bn3 = nn.BatchNorm2d(64)\n",
        "        #self.fc1 = nn.Linear(2304, 10)\n",
        "        self.fc1 = nn.Linear(2304, 5)\n",
        "        \n",
        "\n",
        "    def forward(self, x):\n",
        "        x = self.conv1(x)\n",
        "        x = self.bn1(x)\n",
        "        x = F.relu(x)\n",
        "        x = self.conv2(x)\n",
        "        x = self.bn2(x)\n",
        "        x = F.relu(x)\n",
        "        x = self.conv3(x)\n",
        "        x = self.bn3(x)\n",
        "        x = F.relu(x)\n",
        "        x = torch.flatten(x, 1)\n",
        "        x = self.fc1(x)\n",
        "        return x\n",
        "\n",
        "new_decay_net = ConvBNNet2()\n",
        "decay_losses =  train(new_decay_net, train_dataloader, epochs=5, lr=.01  , decay = .01)\n",
        "decay_losses += train(new_decay_net, train_dataloader, epochs=5, lr=.001 , decay = .01)\n",
        "decay_losses += train(new_decay_net, train_dataloader, epochs=5, lr=.0001, decay = .01)\n",
        "\n",
        "\n",
        "plt.plot(smooth(decay_losses, 50))\n",
        "\n",
        "print(\"Training accuracy: %f\" % accuracy(new_decay_net, train_dataloader))\n",
        "print(\"Testing  accuracy: %f\" % accuracy(new_decay_net, test_dataloader))"
      ],
      "metadata": {
        "id": "PvkeTrX23gie",
        "colab": {
          "base_uri": "https://localhost:8080/",
          "height": 820
        },
        "outputId": "cf60df66-b8f1-4e8d-85ed-978910f65e8e"
      },
      "execution_count": null,
      "outputs": [
        {
          "output_type": "stream",
          "name": "stdout",
          "text": [
            "[1,   100] loss: 1.257\n",
            "[1,   200] loss: 1.163\n",
            "[2,   100] loss: 1.063\n",
            "[2,   200] loss: 1.031\n",
            "[3,   100] loss: 0.973\n",
            "[3,   200] loss: 0.964\n",
            "[4,   100] loss: 0.933\n",
            "[4,   200] loss: 0.936\n",
            "[5,   100] loss: 0.903\n",
            "[5,   200] loss: 0.932\n",
            "[1,   100] loss: 0.849\n",
            "[1,   200] loss: 0.827\n",
            "[2,   100] loss: 0.822\n",
            "[2,   200] loss: 0.810\n",
            "[3,   100] loss: 0.797\n",
            "[3,   200] loss: 0.811\n",
            "[4,   100] loss: 0.788\n",
            "[4,   200] loss: 0.795\n",
            "[5,   100] loss: 0.778\n",
            "[5,   200] loss: 0.780\n",
            "[1,   100] loss: 0.772\n",
            "[1,   200] loss: 0.749\n",
            "[2,   100] loss: 0.763\n",
            "[2,   200] loss: 0.754\n",
            "[3,   100] loss: 0.754\n",
            "[3,   200] loss: 0.759\n",
            "[4,   100] loss: 0.755\n",
            "[4,   200] loss: 0.759\n",
            "[5,   100] loss: 0.753\n",
            "[5,   200] loss: 0.756\n",
            "Training accuracy: 0.716318\n",
            "Testing  accuracy: 0.582366\n"
          ]
        },
        {
          "output_type": "display_data",
          "data": {
            "text/plain": [
              "<Figure size 432x288 with 1 Axes>"
            ],
            "image/png": "[encoded data removed]"
          },
          "metadata": {
            "needs_background": "light"
          }
        }
      ]
    },
    {
      "cell_type": "markdown",
      "source": [
        "Combine category of disgust, fear, surprise"
      ],
      "metadata": {
        "id": "qt1E_9lO3u5E"
      }
    },
    {
      "cell_type": "code",
      "source": [
        "class NewfacialDatasetAug(Dataset):\n",
        "  #def __init__(self, directory, transform):\n",
        "  def __init__(self, directory):\n",
        "    self.arr = []\n",
        "    self.directory = directory\n",
        "    self.label_dict = {\"angry\": 0, \"disgust\": 1, \"fear\": 1, \"happy\": 2, \"neutral\": 3, \"sad\": 4, \"surprise\": 1}\n",
        "    # self.transform = transform\n",
        "    for dir in os.listdir(directory):\n",
        "      for filename in os.listdir(os.path.join(directory, dir)):\n",
        "        index = filename[:-len(\".jpg\")]\n",
        "        self.arr.append((dir, index))\n",
        "        #self.dic.add(int(index), dir)\n",
        "  \n",
        "  def __len__(self):\n",
        "    return len(self.arr)\n",
        "\n",
        "  def __getitem__(self, idx):\n",
        "    img_path = os.path.join(self.directory, self.arr[idx][0], self.arr[idx][1] + \".jpg\")\n",
        "    image = read_image(img_path)\n",
        "    cropper = torchvision.transforms.RandomCrop(46, padding=1, padding_mode='edge');\n",
        "    image = cropper(image)\n",
        "    flipper = torchvision.transforms.RandomHorizontalFlip(p=0.5)\n",
        "    image = flipper(image)\n",
        "    image = image.type(torch.float)\n",
        "    label = self.label_dict.get(self.arr[idx][0])\n",
        "    return image, torch.tensor(label)\n",
        "\n",
        "trainDatasetAug = NewfacialDatasetAug(\"/root/images/train\")\n",
        "testDatasetAug = NewfacialDatasetAug(\"/root/images/validation\")\n",
        "\n",
        "train_dataloader_aug = DataLoader(trainDatasetAug, batch_size=128, shuffle=True, num_workers=2)\n",
        "test_dataloader_aug = DataLoader(testDatasetAug, batch_size=128, shuffle=False, num_workers=2)\n",
        "\n",
        "new_decay_net = ConvBNNet2()\n",
        "decay_losses =  train(new_decay_net, train_dataloader_aug, epochs=30, lr=.01  , decay = .01)\n",
        "# decay_losses += train(new_decay_net, train_dataloader_aug, epochs=30, lr=.001 , decay = .01)\n",
        "# decay_losses += train(new_decay_net, train_dataloader_aug, epochs=50, lr=.0001, decay = .01)\n",
        "\n",
        "\n",
        "plt.plot(smooth(decay_losses, 50))\n",
        "\n",
        "print(\"Training accuracy: %f\" % accuracy(new_decay_net, train_dataloader_aug))\n",
        "print(\"Testing  accuracy: %f\" % accuracy(new_decay_net, test_dataloader_aug))"
      ],
      "metadata": {
        "id": "TTKqq-nj3xRK",
        "colab": {
          "base_uri": "https://localhost:8080/",
          "height": 1000
        },
        "outputId": "b2a6fd2a-73ef-4389-e4a0-2083d45570ce"
      },
      "execution_count": null,
      "outputs": [
        {
          "output_type": "stream",
          "name": "stdout",
          "text": [
            "[1,   100] loss: 1.524\n",
            "[1,   200] loss: 1.417\n",
            "[2,   100] loss: 1.331\n",
            "[2,   200] loss: 1.300\n",
            "[3,   100] loss: 1.258\n",
            "[3,   200] loss: 1.261\n",
            "[4,   100] loss: 1.226\n",
            "[4,   200] loss: 1.217\n",
            "[5,   100] loss: 1.216\n",
            "[5,   200] loss: 1.209\n",
            "[6,   100] loss: 1.192\n",
            "[6,   200] loss: 1.188\n",
            "[7,   100] loss: 1.187\n",
            "[7,   200] loss: 1.187\n",
            "[8,   100] loss: 1.166\n",
            "[8,   200] loss: 1.181\n",
            "[9,   100] loss: 1.174\n",
            "[9,   200] loss: 1.168\n",
            "[10,   100] loss: 1.177\n",
            "[10,   200] loss: 1.167\n",
            "[11,   100] loss: 1.155\n",
            "[11,   200] loss: 1.162\n",
            "[12,   100] loss: 1.174\n",
            "[12,   200] loss: 1.151\n",
            "[13,   100] loss: 1.144\n",
            "[13,   200] loss: 1.163\n",
            "[14,   100] loss: 1.154\n",
            "[14,   200] loss: 1.158\n",
            "[15,   100] loss: 1.149\n",
            "[15,   200] loss: 1.147\n",
            "[16,   100] loss: 1.146\n",
            "[16,   200] loss: 1.144\n",
            "[17,   100] loss: 1.148\n",
            "[17,   200] loss: 1.142\n",
            "[18,   100] loss: 1.152\n",
            "[18,   200] loss: 1.136\n",
            "[19,   100] loss: 1.141\n",
            "[19,   200] loss: 1.138\n",
            "[20,   100] loss: 1.146\n",
            "[20,   200] loss: 1.152\n",
            "[21,   100] loss: 1.134\n",
            "[21,   200] loss: 1.140\n",
            "[22,   100] loss: 1.127\n",
            "[22,   200] loss: 1.136\n",
            "[23,   100] loss: 1.125\n",
            "[23,   200] loss: 1.140\n",
            "[24,   100] loss: 1.141\n",
            "[24,   200] loss: 1.136\n",
            "[25,   100] loss: 1.126\n",
            "[25,   200] loss: 1.132\n",
            "[26,   100] loss: 1.130\n",
            "[26,   200] loss: 1.147\n",
            "[27,   100] loss: 1.135\n",
            "[27,   200] loss: 1.127\n",
            "[28,   100] loss: 1.135\n",
            "[28,   200] loss: 1.130\n",
            "[29,   100] loss: 1.136\n",
            "[29,   200] loss: 1.121\n",
            "[30,   100] loss: 1.140\n",
            "[30,   200] loss: 1.131\n",
            "Training accuracy: 0.544985\n",
            "Testing  accuracy: 0.493348\n"
          ]
        },
        {
          "output_type": "display_data",
          "data": {
            "text/plain": [
              "<Figure size 432x288 with 1 Axes>"
            ],
            "image/png": "[encoded data removed]"
          },
          "metadata": {
            "needs_background": "light"
          }
        }
      ]
    }
  ]
}